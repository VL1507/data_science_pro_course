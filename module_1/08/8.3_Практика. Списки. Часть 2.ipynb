{
 "cells": [
  {
   "cell_type": "markdown",
   "id": "ba73edcf",
   "metadata": {
    "id": "ba73edcf"
   },
   "source": [
    "# Модуль 8. Алгоритмы и структуры данных\n",
    "\n",
    "## Практика по спискам (продолжение)\n",
    "\n",
    "Советуем сначала попробовать решить задачи самостоятельно, а затем изучить [разбор решений](https://colab.research.google.com/drive/1QSZN08tITHwH6OeeKtgS9O31e0HJhy7I).\n",
    "\n",
    "Так вы лучше закрепите пройденный материал.\n"
   ]
  },
  {
   "cell_type": "markdown",
   "id": "425e1bf9",
   "metadata": {
    "id": "425e1bf9"
   },
   "source": [
    "### **Задача 1**\n",
    "\n",
    "Дан список `list1`, который содержит целые числа. Всего в списке 12 элементов.\n",
    "\n",
    "Ваша задача — посчитать сумму элементов с нечётными индексами. Другими словами, нужно сложить элементы `list1[1]`, `list1[3]`, `list1[5]`, `list1[7]`, `list1[9]` и `list1[11]`.\n",
    "\n",
    "Чтобы решить эту задачу, используйте slicing.\n",
    "\n",
    "_Подсказка_: вам придётся указать одну границу среза и шаг.\n"
   ]
  },
  {
   "cell_type": "code",
   "execution_count": 3,
   "id": "c2ea49ee",
   "metadata": {
    "id": "c2ea49ee"
   },
   "outputs": [
    {
     "name": "stdout",
     "output_type": "stream",
     "text": [
      "[3, -2, 5, 12, 16, 8]\n",
      "42\n"
     ]
    }
   ],
   "source": [
    "list1 = [1, 3, 0, -2, 4, 5, 9, 12, -9, 16, -75, 8]\n",
    "\n",
    "slice1 = list1[1::2]\n",
    "print(slice1)\n",
    "\n",
    "res = 0\n",
    "for i in range(len(slice1)):\n",
    "    res += slice1[i]\n",
    "\n",
    "print(res)"
   ]
  },
  {
   "cell_type": "markdown",
   "id": "bb39c8a8",
   "metadata": {
    "id": "bb39c8a8"
   },
   "source": [
    "---\n",
    "\n",
    "### **Задача 2**\n",
    "\n",
    "Задан список `list2`, который содержит целые числа, некоторые из которых равны нулю.\n",
    "\n",
    "Задача: удалите из списка все нулевые элементы, используя инструкцию `del`.\n",
    "\n",
    "_Подсказка_\n",
    "\n",
    "1. Используйте цикл `while`, а не `for`.\n",
    "1. Подумайте, на каждой ли итерации цикла нужно инкрементировать его счётчик.\n"
   ]
  },
  {
   "cell_type": "code",
   "execution_count": 4,
   "id": "d80662f3",
   "metadata": {
    "id": "d80662f3"
   },
   "outputs": [
    {
     "name": "stdout",
     "output_type": "stream",
     "text": [
      "[1, 17, 3, 6, 9, 1, 34, -19]\n"
     ]
    }
   ],
   "source": [
    "list2 = [1, 17, 0, 3, 6, 9, 0, 1, 34, -19, 0, 0]\n",
    "\n",
    "i = 0\n",
    "while i < len(list2):\n",
    "    if list2[i] == 0:\n",
    "        del list2[i]\n",
    "    else:\n",
    "        i += 1\n",
    "\n",
    "print(list2)"
   ]
  },
  {
   "cell_type": "markdown",
   "id": "b07aeafb",
   "metadata": {
    "id": "b07aeafb"
   },
   "source": [
    "---\n",
    "\n",
    "### **Задача 3**\n",
    "\n",
    "Дан список списков (да, такое бывает, и достаточно часто) `list_of_lists`. Другими словами, каждый элемент списка `list_of_lists` — список сам по себе. Например, `list_of_lists[0]` – это список `['a', 'b', 'c']`, `list_of_lists[1]` – `['d', 'e', 'f']` и так далее.\n",
    "\n",
    "Ваша задача — написать код, который объединит все элементы-списки `list_of_lists` в один-единственный список abc. Напечатайте объединённый список `abc` на экране.\n"
   ]
  },
  {
   "cell_type": "code",
   "execution_count": 5,
   "id": "b868c6a4",
   "metadata": {
    "id": "b868c6a4"
   },
   "outputs": [
    {
     "name": "stdout",
     "output_type": "stream",
     "text": [
      "['a', 'b', 'c', 'd', 'e', 'f', 'g', 'h', 'i', 'j', 'k', 'l', 'm', 'n', 'o', 'p', 'q', 'r', 's', 't', 'u', 'v', 'w', 'x', 'y', 'z']\n"
     ]
    }
   ],
   "source": [
    "list_of_lists = [\n",
    "    [\"a\", \"b\", \"c\"],\n",
    "    [\"d\", \"e\", \"f\"],\n",
    "    [\"g\", \"h\", \"i\"],\n",
    "    [\"j\", \"k\", \"l\"],\n",
    "    [\"m\", \"n\", \"o\"],\n",
    "    [\"p\", \"q\", \"r\"],\n",
    "    [\"s\", \"t\", \"u\"],\n",
    "    [\"v\", \"w\", \"x\"],\n",
    "    [\"y\", \"z\"],\n",
    "]\n",
    "\n",
    "abc = []\n",
    "\n",
    "for list_ in list_of_lists:\n",
    "    abc.extend(list_)\n",
    "\n",
    "print(abc)"
   ]
  },
  {
   "cell_type": "markdown",
   "id": "b7d4c63b",
   "metadata": {
    "id": "b7d4c63b"
   },
   "source": [
    "---\n",
    "\n",
    "### **Задача 4**\n",
    "\n",
    "Даны четыре списка: `list41`, `list42`, `list43` и `list44`.\n",
    "\n",
    "Напишите код, который определяет, является ли каждый из этих списков `палиндромом` (читается одинаково в обоих направлениях).\n",
    "\n",
    "**Дополнение со звёздочкой**. Подумайте над ещё одним решением: как написать код, чтобы не повторять проверки на палиндром.\n"
   ]
  },
  {
   "cell_type": "code",
   "execution_count": 6,
   "id": "655fd363",
   "metadata": {
    "id": "655fd363"
   },
   "outputs": [
    {
     "name": "stdout",
     "output_type": "stream",
     "text": [
      "False\n",
      "True\n",
      "False\n",
      "True\n"
     ]
    }
   ],
   "source": [
    "list41 = [\"a\", \"b\", \"c\", \"b\"]\n",
    "print(list41 == list41[::-1])\n",
    "\n",
    "list42 = [\"a\", \"b\", \"c\", \"b\", \"a\"]\n",
    "print(list42 == list42[::-1])\n",
    "\n",
    "list43 = [\"b\", \"b\", \"b\", \"a\", \"b\", \"b\"]\n",
    "print(list43 == list43[::-1])\n",
    "\n",
    "list44 = [\"b\", \"c\", \"d\", \"e\", \"d\", \"c\", \"b\"]\n",
    "print(list44 == list44[::-1])"
   ]
  }
 ],
 "metadata": {
  "colab": {
   "provenance": []
  },
  "kernelspec": {
   "display_name": "data_science_pro_course",
   "language": "python",
   "name": "python3"
  },
  "language_info": {
   "codemirror_mode": {
    "name": "ipython",
    "version": 3
   },
   "file_extension": ".py",
   "mimetype": "text/x-python",
   "name": "python",
   "nbconvert_exporter": "python",
   "pygments_lexer": "ipython3",
   "version": "3.10.8"
  }
 },
 "nbformat": 4,
 "nbformat_minor": 5
}
