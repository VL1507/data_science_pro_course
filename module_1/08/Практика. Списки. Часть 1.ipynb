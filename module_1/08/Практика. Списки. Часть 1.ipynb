{
 "cells": [
  {
   "cell_type": "markdown",
   "id": "c2dd877a",
   "metadata": {
    "id": "c2dd877a"
   },
   "source": [
    "# Модуль 8. Алгоритмы и структуры данных\n",
    "\n",
    "## Практика по спискам\n",
    "\n",
    "Советуем сначала попробовать решить задачи самостоятельно, а затем изучить [разбор решений](https://drive.google.com/file/d/15NuToH05fMZD0cqqUnNEr6LZWPASYFTY/view?usp=sharing).\n",
    "\n",
    "Так вы лучше закрепите пройденный материал.\n"
   ]
  },
  {
   "cell_type": "markdown",
   "id": "0968d539",
   "metadata": {
    "id": "0968d539"
   },
   "source": [
    "### **Задача 1**\n",
    "\n",
    "Создайте список `list1`, который состоит из пяти элементов: `2`, `7`, `19`, `0` и `8`.\n"
   ]
  },
  {
   "cell_type": "code",
   "execution_count": 13,
   "id": "143b208a",
   "metadata": {
    "id": "143b208a"
   },
   "outputs": [],
   "source": [
    "list1 = [2, 7, 19, 0, 8]"
   ]
  },
  {
   "cell_type": "markdown",
   "id": "d4ee0fe4",
   "metadata": {
    "id": "d4ee0fe4"
   },
   "source": [
    "Напечатайте на экране длину списка `list1`.\n"
   ]
  },
  {
   "cell_type": "code",
   "execution_count": 14,
   "id": "aba24714",
   "metadata": {
    "id": "aba24714"
   },
   "outputs": [
    {
     "name": "stdout",
     "output_type": "stream",
     "text": [
      "5\n"
     ]
    }
   ],
   "source": [
    "print(len(list1))"
   ]
  },
  {
   "cell_type": "markdown",
   "id": "ae79fe3f",
   "metadata": {
    "id": "ae79fe3f"
   },
   "source": [
    "Выведите на экран сумму первого и последнего элементов списка `list1`.\n"
   ]
  },
  {
   "cell_type": "code",
   "execution_count": 15,
   "id": "4f5635db",
   "metadata": {
    "id": "4f5635db"
   },
   "outputs": [
    {
     "name": "stdout",
     "output_type": "stream",
     "text": [
      "10\n"
     ]
    }
   ],
   "source": [
    "print(list1[0] + list1[-1])"
   ]
  },
  {
   "cell_type": "markdown",
   "id": "b71b4720",
   "metadata": {
    "id": "b71b4720"
   },
   "source": [
    "Добавьте в конец списка `list1` два элемента: `-1` и `4`.\n"
   ]
  },
  {
   "cell_type": "code",
   "execution_count": 16,
   "id": "2d004660",
   "metadata": {
    "id": "2d004660"
   },
   "outputs": [],
   "source": [
    "list1.append(-1)\n",
    "list1.append(4)"
   ]
  },
  {
   "cell_type": "markdown",
   "id": "d073891e",
   "metadata": {
    "id": "d073891e"
   },
   "source": [
    "Замените `четвёртый` элемент этого списка на значение `3`.\n"
   ]
  },
  {
   "cell_type": "code",
   "execution_count": 17,
   "id": "e6185159",
   "metadata": {
    "id": "e6185159"
   },
   "outputs": [],
   "source": [
    "list1[3] = 3"
   ]
  },
  {
   "cell_type": "markdown",
   "id": "61d5fab9",
   "metadata": {
    "id": "61d5fab9"
   },
   "source": [
    "Напишите код, который вычисляет сумму всех элементов полученного списка и выводит её на экран.\n"
   ]
  },
  {
   "cell_type": "code",
   "execution_count": 18,
   "id": "a30183fe",
   "metadata": {
    "id": "a30183fe"
   },
   "outputs": [
    {
     "name": "stdout",
     "output_type": "stream",
     "text": [
      "42\n"
     ]
    }
   ],
   "source": [
    "print(sum(list1))"
   ]
  },
  {
   "cell_type": "markdown",
   "id": "2a25c34f",
   "metadata": {
    "id": "2a25c34f"
   },
   "source": [
    "---\n",
    "\n",
    "### **Задача 2**\n",
    "\n",
    "Дан список `list2`, который содержит целые числа.\n",
    "\n",
    "Превратите список `list2` в список квадратов этих чисел. Другими словами, замените значение каждого элемента списка `list2` на квадрат этого значения.\n",
    "\n",
    "Напечатайте полученный список на экране.\n"
   ]
  },
  {
   "cell_type": "code",
   "execution_count": 19,
   "id": "52c1fb5d",
   "metadata": {
    "id": "52c1fb5d"
   },
   "outputs": [
    {
     "name": "stdout",
     "output_type": "stream",
     "text": [
      "[0, 1, 4, 9, 16, 25, 36, 49, 64, 81]\n"
     ]
    }
   ],
   "source": [
    "list2 = [0, 1, 2, 3, 4, 5, 6, 7, 8, 9]\n",
    "\n",
    "for i in range(len(list2)):\n",
    "    list2[i] **= 2\n",
    "\n",
    "print(list2)"
   ]
  },
  {
   "cell_type": "markdown",
   "id": "cd156397",
   "metadata": {
    "id": "cd156397"
   },
   "source": [
    "---\n",
    "\n",
    "### **Задача 3**\n",
    "\n",
    "Даны два списка `list31` и `list32`. Первый список пуст, а второй содержит целые числа.\n",
    "\n",
    "Напишите код, который заполнит пустой список `list31` **неотрицательными (>=0)** элементами списка `list32`. Напечатайте список `list31` на экране.\n",
    "\n",
    "_Подсказка_: функцию `append` можно вызывать на пустом списке.\n"
   ]
  },
  {
   "cell_type": "code",
   "execution_count": 20,
   "id": "1196f93f",
   "metadata": {
    "id": "1196f93f"
   },
   "outputs": [
    {
     "name": "stdout",
     "output_type": "stream",
     "text": [
      "[9, 8, 0, 15, 23, 42]\n"
     ]
    }
   ],
   "source": [
    "list31 = []\n",
    "list32 = [9, -1, 8, 0, 15, -67, 23, 42, -19, -2]\n",
    "\n",
    "for elem in list32:\n",
    "    if elem >= 0:\n",
    "        list31.append(elem)\n",
    "\n",
    "print(list31)"
   ]
  },
  {
   "cell_type": "markdown",
   "id": "13774f12",
   "metadata": {
    "id": "13774f12"
   },
   "source": [
    "---\n",
    "\n",
    "### **Задача 4**\n",
    "\n",
    "Дан список `list4`, содержащий целые `неотрицательные` числа. Найдите среди них максимальное. Напечатайте его на экране.\n"
   ]
  },
  {
   "cell_type": "code",
   "execution_count": 21,
   "id": "fc059708",
   "metadata": {
    "id": "fc059708"
   },
   "outputs": [
    {
     "name": "stdout",
     "output_type": "stream",
     "text": [
      "1024\n"
     ]
    }
   ],
   "source": [
    "list4 = [8, 3, 17, 42, 7, 18, 904, 6, 12, 1024, 5, 39]\n",
    "\n",
    "maxx = 0\n",
    "for elem in list4:\n",
    "    if elem > maxx:\n",
    "        maxx = elem\n",
    "\n",
    "print(maxx)"
   ]
  }
 ],
 "metadata": {
  "colab": {
   "provenance": []
  },
  "kernelspec": {
   "display_name": "data_science_pro_course",
   "language": "python",
   "name": "python3"
  },
  "language_info": {
   "codemirror_mode": {
    "name": "ipython",
    "version": 3
   },
   "file_extension": ".py",
   "mimetype": "text/x-python",
   "name": "python",
   "nbconvert_exporter": "python",
   "pygments_lexer": "ipython3",
   "version": "3.10.8"
  }
 },
 "nbformat": 4,
 "nbformat_minor": 5
}
