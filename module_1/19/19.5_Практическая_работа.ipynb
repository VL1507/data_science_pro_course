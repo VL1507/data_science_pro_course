{
 "cells": [
  {
   "cell_type": "markdown",
   "id": "25113067",
   "metadata": {},
   "source": [
    "## <font color=\"#ff0000\">Файлы не были прикреплены к заданию, поэтому сделал как понял</font>"
   ]
  },
  {
   "cell_type": "markdown",
   "id": "67810168",
   "metadata": {},
   "source": [
    "## Задание\n",
    "\n",
    "1. Загрузите датасет и ознакомьтесь с ним.\n",
    "2. Исследуйте данные на аномальные значения и скорректируйте выбросы.\n",
    "3. Постройте график для количественных переменных.\n",
    "4. Постройте график для категориальных переменных.\n",
    "5. Исследуйте зависимости в данных."
   ]
  },
  {
   "cell_type": "markdown",
   "id": "78dc8154",
   "metadata": {},
   "source": [
    "## Описание датасета:\n",
    "- `id`: идентификатор записи;\n",
    "- `url`: URL записи о продаже;\n",
    "- `region`: регион;\n",
    "- `region_url`: URL региона;\n",
    "- `price`: стоимость;\n",
    "- `year`: год выпуска;\n",
    "- `manufacturer`: производитель;\n",
    "- `model`: модель;\n",
    "- `condition`: состояние;\n",
    "- `cylinders`: количество цилиндров;\n",
    "- `fuel`: тип топлива;\n",
    "- `odometer`: количество пройденных миль;\n",
    "- `title_status`: статус;\n",
    "- `transmission`: коробка передач;\n",
    "- `VIN`: идентификационный номер;\n",
    "- `drive`: тип привода;\n",
    "- `size`: размер;\n",
    "- `type`: кузов;\n",
    "- `paint_color`: цвет;\n",
    "- `image_url`: URL изображения;\n",
    "- `description`: указанное описание;\n",
    "- `county`: страна;\n",
    "- `state`: штат;\n",
    "- `lat`: широта;\n",
    "- `long`: долгота;\n",
    "- `posting_date`: дата размещения объявления о продаже;\n",
    "- `price_category`: категория цены."
   ]
  },
  {
   "cell_type": "markdown",
   "id": "90cc8d42",
   "metadata": {},
   "source": [
    "## Импорты"
   ]
  },
  {
   "cell_type": "code",
   "execution_count": 1,
   "id": "4ea4e9ca",
   "metadata": {},
   "outputs": [],
   "source": [
    "import pandas as pd\n",
    "\n",
    "import matplotlib.pyplot as plt"
   ]
  },
  {
   "cell_type": "markdown",
   "id": "f4b586c6",
   "metadata": {},
   "source": [
    "## 1. Загрузите датасет и ознакомьтесь с ним."
   ]
  },
  {
   "cell_type": "code",
   "execution_count": 2,
   "id": "bd6a982f",
   "metadata": {},
   "outputs": [],
   "source": [
    "df = pd.read_csv(\"./vehicles_dataset_upd.csv\")"
   ]
  },
  {
   "cell_type": "code",
   "execution_count": 3,
   "id": "a761f766",
   "metadata": {},
   "outputs": [
    {
     "data": {
      "text/html": [
       "<div>\n",
       "<style scoped>\n",
       "    .dataframe tbody tr th:only-of-type {\n",
       "        vertical-align: middle;\n",
       "    }\n",
       "\n",
       "    .dataframe tbody tr th {\n",
       "        vertical-align: top;\n",
       "    }\n",
       "\n",
       "    .dataframe thead th {\n",
       "        text-align: right;\n",
       "    }\n",
       "</style>\n",
       "<table border=\"1\" class=\"dataframe\">\n",
       "  <thead>\n",
       "    <tr style=\"text-align: right;\">\n",
       "      <th></th>\n",
       "      <th>id</th>\n",
       "      <th>url</th>\n",
       "      <th>region</th>\n",
       "      <th>region_url</th>\n",
       "      <th>price</th>\n",
       "      <th>year</th>\n",
       "      <th>manufacturer</th>\n",
       "      <th>model</th>\n",
       "      <th>fuel</th>\n",
       "      <th>odometer</th>\n",
       "      <th>title_status</th>\n",
       "      <th>transmission</th>\n",
       "      <th>image_url</th>\n",
       "      <th>description</th>\n",
       "      <th>state</th>\n",
       "      <th>lat</th>\n",
       "      <th>long</th>\n",
       "      <th>posting_date</th>\n",
       "      <th>price_category</th>\n",
       "      <th>date</th>\n",
       "    </tr>\n",
       "  </thead>\n",
       "  <tbody>\n",
       "    <tr>\n",
       "      <th>0</th>\n",
       "      <td>7308295377</td>\n",
       "      <td>https://chattanooga.craigslist.org/ctd/d/chatt...</td>\n",
       "      <td>chattanooga</td>\n",
       "      <td>https://chattanooga.craigslist.org</td>\n",
       "      <td>54990</td>\n",
       "      <td>2020</td>\n",
       "      <td>ram</td>\n",
       "      <td>2500 crew cab big horn</td>\n",
       "      <td>diesel</td>\n",
       "      <td>27442</td>\n",
       "      <td>clean</td>\n",
       "      <td>other</td>\n",
       "      <td>https://images.craigslist.org/00N0N_1xMPvfxRAI...</td>\n",
       "      <td>Carvana is the safer way to buy a car During t...</td>\n",
       "      <td>tn</td>\n",
       "      <td>35.060000</td>\n",
       "      <td>-85.250000</td>\n",
       "      <td>2021-04-17T12:30:50-0400</td>\n",
       "      <td>high</td>\n",
       "      <td>2021-04-17 16:30:50+00:00</td>\n",
       "    </tr>\n",
       "    <tr>\n",
       "      <th>1</th>\n",
       "      <td>7316380095</td>\n",
       "      <td>https://newjersey.craigslist.org/ctd/d/carlsta...</td>\n",
       "      <td>north jersey</td>\n",
       "      <td>https://newjersey.craigslist.org</td>\n",
       "      <td>16942</td>\n",
       "      <td>2016</td>\n",
       "      <td>ford</td>\n",
       "      <td>explorer 4wd 4dr xlt</td>\n",
       "      <td>other</td>\n",
       "      <td>60023</td>\n",
       "      <td>clean</td>\n",
       "      <td>automatic</td>\n",
       "      <td>https://images.craigslist.org/00x0x_26jl9F0cnL...</td>\n",
       "      <td>***Call Us for more information at: 201-635-14...</td>\n",
       "      <td>nj</td>\n",
       "      <td>40.821805</td>\n",
       "      <td>-74.061962</td>\n",
       "      <td>2021-05-03T15:40:21-0400</td>\n",
       "      <td>medium</td>\n",
       "      <td>2021-05-03 19:40:21+00:00</td>\n",
       "    </tr>\n",
       "    <tr>\n",
       "      <th>2</th>\n",
       "      <td>7313733749</td>\n",
       "      <td>https://reno.craigslist.org/ctd/d/atlanta-2017...</td>\n",
       "      <td>reno / tahoe</td>\n",
       "      <td>https://reno.craigslist.org</td>\n",
       "      <td>35590</td>\n",
       "      <td>2017</td>\n",
       "      <td>volkswagen</td>\n",
       "      <td>golf r hatchback</td>\n",
       "      <td>gas</td>\n",
       "      <td>14048</td>\n",
       "      <td>clean</td>\n",
       "      <td>other</td>\n",
       "      <td>https://images.craigslist.org/00y0y_eeZjWeiSfb...</td>\n",
       "      <td>Carvana is the safer way to buy a car During t...</td>\n",
       "      <td>ca</td>\n",
       "      <td>33.779214</td>\n",
       "      <td>-84.411811</td>\n",
       "      <td>2021-04-28T03:52:20-0700</td>\n",
       "      <td>high</td>\n",
       "      <td>2021-04-28 10:52:20+00:00</td>\n",
       "    </tr>\n",
       "    <tr>\n",
       "      <th>3</th>\n",
       "      <td>7308210929</td>\n",
       "      <td>https://fayetteville.craigslist.org/ctd/d/rale...</td>\n",
       "      <td>fayetteville</td>\n",
       "      <td>https://fayetteville.craigslist.org</td>\n",
       "      <td>14500</td>\n",
       "      <td>2013</td>\n",
       "      <td>toyota</td>\n",
       "      <td>rav4</td>\n",
       "      <td>gas</td>\n",
       "      <td>117291</td>\n",
       "      <td>clean</td>\n",
       "      <td>automatic</td>\n",
       "      <td>https://images.craigslist.org/00606_iGe5iXidib...</td>\n",
       "      <td>2013 Toyota RAV4 XLE 4dr SUV     Offered by: R...</td>\n",
       "      <td>nc</td>\n",
       "      <td>35.715954</td>\n",
       "      <td>-78.655304</td>\n",
       "      <td>2021-04-17T10:08:57-0400</td>\n",
       "      <td>medium</td>\n",
       "      <td>2021-04-17 14:08:57+00:00</td>\n",
       "    </tr>\n",
       "    <tr>\n",
       "      <th>4</th>\n",
       "      <td>7316474668</td>\n",
       "      <td>https://newyork.craigslist.org/lgi/cto/d/baldw...</td>\n",
       "      <td>new york city</td>\n",
       "      <td>https://newyork.craigslist.org</td>\n",
       "      <td>21800</td>\n",
       "      <td>2021</td>\n",
       "      <td>nissan</td>\n",
       "      <td>altima</td>\n",
       "      <td>gas</td>\n",
       "      <td>8000</td>\n",
       "      <td>clean</td>\n",
       "      <td>automatic</td>\n",
       "      <td>https://images.craigslist.org/00V0V_3pSOiPZ3Sd...</td>\n",
       "      <td>2021 Nissan Altima Sv with Only 8 K Miles Titl...</td>\n",
       "      <td>ny</td>\n",
       "      <td>40.654800</td>\n",
       "      <td>-73.609700</td>\n",
       "      <td>2021-05-03T18:32:06-0400</td>\n",
       "      <td>medium</td>\n",
       "      <td>2021-05-03 22:32:06+00:00</td>\n",
       "    </tr>\n",
       "  </tbody>\n",
       "</table>\n",
       "</div>"
      ],
      "text/plain": [
       "           id                                                url  \\\n",
       "0  7308295377  https://chattanooga.craigslist.org/ctd/d/chatt...   \n",
       "1  7316380095  https://newjersey.craigslist.org/ctd/d/carlsta...   \n",
       "2  7313733749  https://reno.craigslist.org/ctd/d/atlanta-2017...   \n",
       "3  7308210929  https://fayetteville.craigslist.org/ctd/d/rale...   \n",
       "4  7316474668  https://newyork.craigslist.org/lgi/cto/d/baldw...   \n",
       "\n",
       "          region                           region_url  price  year  \\\n",
       "0    chattanooga   https://chattanooga.craigslist.org  54990  2020   \n",
       "1   north jersey     https://newjersey.craigslist.org  16942  2016   \n",
       "2   reno / tahoe          https://reno.craigslist.org  35590  2017   \n",
       "3   fayetteville  https://fayetteville.craigslist.org  14500  2013   \n",
       "4  new york city       https://newyork.craigslist.org  21800  2021   \n",
       "\n",
       "  manufacturer                   model    fuel  odometer title_status  \\\n",
       "0          ram  2500 crew cab big horn  diesel     27442        clean   \n",
       "1         ford    explorer 4wd 4dr xlt   other     60023        clean   \n",
       "2   volkswagen        golf r hatchback     gas     14048        clean   \n",
       "3       toyota                    rav4     gas    117291        clean   \n",
       "4       nissan                  altima     gas      8000        clean   \n",
       "\n",
       "  transmission                                          image_url  \\\n",
       "0        other  https://images.craigslist.org/00N0N_1xMPvfxRAI...   \n",
       "1    automatic  https://images.craigslist.org/00x0x_26jl9F0cnL...   \n",
       "2        other  https://images.craigslist.org/00y0y_eeZjWeiSfb...   \n",
       "3    automatic  https://images.craigslist.org/00606_iGe5iXidib...   \n",
       "4    automatic  https://images.craigslist.org/00V0V_3pSOiPZ3Sd...   \n",
       "\n",
       "                                         description state        lat  \\\n",
       "0  Carvana is the safer way to buy a car During t...    tn  35.060000   \n",
       "1  ***Call Us for more information at: 201-635-14...    nj  40.821805   \n",
       "2  Carvana is the safer way to buy a car During t...    ca  33.779214   \n",
       "3  2013 Toyota RAV4 XLE 4dr SUV     Offered by: R...    nc  35.715954   \n",
       "4  2021 Nissan Altima Sv with Only 8 K Miles Titl...    ny  40.654800   \n",
       "\n",
       "        long              posting_date price_category  \\\n",
       "0 -85.250000  2021-04-17T12:30:50-0400           high   \n",
       "1 -74.061962  2021-05-03T15:40:21-0400         medium   \n",
       "2 -84.411811  2021-04-28T03:52:20-0700           high   \n",
       "3 -78.655304  2021-04-17T10:08:57-0400         medium   \n",
       "4 -73.609700  2021-05-03T18:32:06-0400         medium   \n",
       "\n",
       "                        date  \n",
       "0  2021-04-17 16:30:50+00:00  \n",
       "1  2021-05-03 19:40:21+00:00  \n",
       "2  2021-04-28 10:52:20+00:00  \n",
       "3  2021-04-17 14:08:57+00:00  \n",
       "4  2021-05-03 22:32:06+00:00  "
      ]
     },
     "execution_count": 3,
     "metadata": {},
     "output_type": "execute_result"
    }
   ],
   "source": [
    "df.head()"
   ]
  },
  {
   "cell_type": "code",
   "execution_count": 4,
   "id": "6f57a0e0",
   "metadata": {},
   "outputs": [
    {
     "name": "stdout",
     "output_type": "stream",
     "text": [
      "<class 'pandas.core.frame.DataFrame'>\n",
      "RangeIndex: 9868 entries, 0 to 9867\n",
      "Data columns (total 20 columns):\n",
      " #   Column          Non-Null Count  Dtype  \n",
      "---  ------          --------------  -----  \n",
      " 0   id              9868 non-null   int64  \n",
      " 1   url             9868 non-null   object \n",
      " 2   region          9868 non-null   object \n",
      " 3   region_url      9868 non-null   object \n",
      " 4   price           9868 non-null   int64  \n",
      " 5   year            9868 non-null   int64  \n",
      " 6   manufacturer    9868 non-null   object \n",
      " 7   model           9868 non-null   object \n",
      " 8   fuel            9868 non-null   object \n",
      " 9   odometer        9868 non-null   int64  \n",
      " 10  title_status    9868 non-null   object \n",
      " 11  transmission    9868 non-null   object \n",
      " 12  image_url       9868 non-null   object \n",
      " 13  description     9868 non-null   object \n",
      " 14  state           9868 non-null   object \n",
      " 15  lat             9868 non-null   float64\n",
      " 16  long            9868 non-null   float64\n",
      " 17  posting_date    9868 non-null   object \n",
      " 18  price_category  9868 non-null   object \n",
      " 19  date            9868 non-null   object \n",
      "dtypes: float64(2), int64(4), object(14)\n",
      "memory usage: 1.5+ MB\n"
     ]
    }
   ],
   "source": [
    "df.info()"
   ]
  },
  {
   "cell_type": "markdown",
   "id": "5bdb2f3d",
   "metadata": {},
   "source": [
    "## 2. Исследуйте данные на аномальные значения и скорректируйте выбросы."
   ]
  },
  {
   "cell_type": "code",
   "execution_count": 5,
   "id": "88336efe",
   "metadata": {},
   "outputs": [],
   "source": [
    "df_new = df.copy()"
   ]
  },
  {
   "cell_type": "markdown",
   "id": "78abc9bc",
   "metadata": {},
   "source": [
    "### Проверка количества пройденных миль"
   ]
  },
  {
   "cell_type": "code",
   "execution_count": 6,
   "id": "dbd2d053",
   "metadata": {},
   "outputs": [
    {
     "data": {
      "image/png": "[encoded data removed]",
      "text/plain": [
       "<Figure size 640x480 with 1 Axes>"
      ]
     },
     "metadata": {},
     "output_type": "display_data"
    }
   ],
   "source": [
    "plt.figure()\n",
    "\n",
    "plt.boxplot(df[\"odometer\"])\n",
    "\n",
    "plt.title(\"Скрипичный ключ для пробега\")\n",
    "plt.ylabel(\"Пробег\");"
   ]
  },
  {
   "cell_type": "markdown",
   "id": "0cd9e7ff",
   "metadata": {},
   "source": [
    "аномальные значения не найдены"
   ]
  },
  {
   "cell_type": "markdown",
   "id": "0df122fc",
   "metadata": {},
   "source": [
    "### Проверка года выпуска"
   ]
  },
  {
   "cell_type": "code",
   "execution_count": 7,
   "id": "b50f8d64",
   "metadata": {},
   "outputs": [
    {
     "data": {
      "image/png": "[encoded data removed]",
      "text/plain": [
       "<Figure size 640x480 with 1 Axes>"
      ]
     },
     "metadata": {},
     "output_type": "display_data"
    }
   ],
   "source": [
    "plt.figure()\n",
    "\n",
    "plt.boxplot(df[\"year\"])\n",
    "\n",
    "plt.title(\"Скрипичный ключ для года выпуска\")\n",
    "plt.ylabel(\"Год выпуска\");"
   ]
  },
  {
   "cell_type": "markdown",
   "id": "bf467d47",
   "metadata": {},
   "source": [
    "аномальные значения не найдены"
   ]
  },
  {
   "cell_type": "markdown",
   "id": "72c8e0eb",
   "metadata": {},
   "source": [
    "### Проверка цены"
   ]
  },
  {
   "cell_type": "code",
   "execution_count": 8,
   "id": "9646b97e",
   "metadata": {},
   "outputs": [
    {
     "data": {
      "image/png": "[encoded data removed]",
      "text/plain": [
       "<Figure size 640x480 with 1 Axes>"
      ]
     },
     "metadata": {},
     "output_type": "display_data"
    }
   ],
   "source": [
    "plt.figure()\n",
    "\n",
    "plt.boxplot(df[\"price\"])\n",
    "\n",
    "plt.title(\"Скрипичный ключ для цены\")\n",
    "plt.ylabel(\"Цена\");"
   ]
  },
  {
   "cell_type": "code",
   "execution_count": 9,
   "id": "df3c9f8a",
   "metadata": {},
   "outputs": [],
   "source": [
    "def calculate_outliers_quantile(data: pd.Series) -> tuple[float, float]:\n",
    "    q25 = data.quantile(0.25)\n",
    "    q75 = data.quantile(0.75)\n",
    "    iqr = q75 - q25\n",
    "    boundaries = (q25 - 1.5 * iqr, q75 + 1.5 * iqr)\n",
    "    return boundaries"
   ]
  },
  {
   "cell_type": "code",
   "execution_count": 10,
   "id": "14aa34fc",
   "metadata": {},
   "outputs": [
    {
     "data": {
      "text/plain": [
       "(np.int64(207), np.float64(0.020976895014187272))"
      ]
     },
     "execution_count": 10,
     "metadata": {},
     "output_type": "execute_result"
    }
   ],
   "source": [
    "boundaries = calculate_outliers_quantile(df[\"price\"])\n",
    "\n",
    "is_outlier = (df[\"price\"] < boundaries[0]) | (df[\"price\"] > boundaries[1])\n",
    "\n",
    "is_outlier.sum(), is_outlier.sum() / len(df)"
   ]
  },
  {
   "cell_type": "code",
   "execution_count": 11,
   "id": "5726c56e",
   "metadata": {},
   "outputs": [
    {
     "data": {
      "text/plain": [
       "(np.float64(-22485.0), np.float64(58275.0))"
      ]
     },
     "execution_count": 11,
     "metadata": {},
     "output_type": "execute_result"
    }
   ],
   "source": [
    "boundaries"
   ]
  },
  {
   "cell_type": "code",
   "execution_count": 12,
   "id": "39590aed",
   "metadata": {},
   "outputs": [
    {
     "data": {
      "text/plain": [
       "count        9868.0\n",
       "mean        20602.0\n",
       "std        125437.2\n",
       "min           500.0\n",
       "25%          7800.0\n",
       "50%         15590.0\n",
       "75%         27990.0\n",
       "max      12345678.0\n",
       "Name: price, dtype: object"
      ]
     },
     "execution_count": 12,
     "metadata": {},
     "output_type": "execute_result"
    }
   ],
   "source": [
    "df[\"price\"].describe().apply(lambda x: f\"{x:.1f}\")"
   ]
  },
  {
   "cell_type": "markdown",
   "id": "d779e96d",
   "metadata": {},
   "source": [
    "max выходит за границы. заменим все значения выходящие за границы на границы"
   ]
  },
  {
   "cell_type": "code",
   "execution_count": 13,
   "id": "c1d8a80b",
   "metadata": {},
   "outputs": [],
   "source": [
    "df_new.loc[df_new[\"price\"] > boundaries[1], \"price\"] = boundaries[1]"
   ]
  },
  {
   "cell_type": "code",
   "execution_count": 14,
   "id": "56f8ed3c",
   "metadata": {},
   "outputs": [
    {
     "data": {
      "text/plain": [
       "count     9868.0\n",
       "mean     18882.4\n",
       "std      13669.7\n",
       "min        500.0\n",
       "25%       7800.0\n",
       "50%      15590.0\n",
       "75%      27990.0\n",
       "max      58275.0\n",
       "Name: price, dtype: object"
      ]
     },
     "execution_count": 14,
     "metadata": {},
     "output_type": "execute_result"
    }
   ],
   "source": [
    "df_new[\"price\"].describe().apply(lambda x: f\"{x:.1f}\")"
   ]
  },
  {
   "cell_type": "code",
   "execution_count": 15,
   "id": "1766b7d4",
   "metadata": {},
   "outputs": [
    {
     "data": {
      "image/png": "[encoded data removed]",
      "text/plain": [
       "<Figure size 640x480 with 1 Axes>"
      ]
     },
     "metadata": {},
     "output_type": "display_data"
    }
   ],
   "source": [
    "plt.figure()\n",
    "\n",
    "plt.boxplot(df_new[\"price\"])\n",
    "\n",
    "plt.title(\"Скрипичный ключ для цены\")\n",
    "plt.ylabel(\"Цена\");"
   ]
  },
  {
   "cell_type": "markdown",
   "id": "e0cd3b0a",
   "metadata": {},
   "source": [
    "## 3. Постройте график для количественных переменных."
   ]
  },
  {
   "cell_type": "markdown",
   "id": "0ca9c82e",
   "metadata": {},
   "source": [
    "стало интересно, как лучше выбирать число для bins\n",
    "\n",
    "нашел правила Стёрджеса, Скотта и Фридмана-Дьякониса и другие, а так же значения для bins, которые соответствуют им"
   ]
  },
  {
   "cell_type": "code",
   "execution_count": 16,
   "id": "0a17369e",
   "metadata": {},
   "outputs": [
    {
     "data": {
      "image/png": "[encoded data removed]",
      "text/plain": [
       "<Figure size 640x480 with 1 Axes>"
      ]
     },
     "metadata": {},
     "output_type": "display_data"
    }
   ],
   "source": [
    "plt.figure()\n",
    "\n",
    "plt.hist(df_new[\"price\"], bins=\"auto\")\n",
    "\n",
    "plt.grid()\n",
    "plt.title(\"Гистограмма частот цен\")\n",
    "plt.ylabel(\"Частота\")\n",
    "plt.xlabel(\"Цена\");"
   ]
  },
  {
   "cell_type": "code",
   "execution_count": 17,
   "id": "6302a1cc",
   "metadata": {},
   "outputs": [
    {
     "data": {
      "image/png": "[encoded data removed]",
      "text/plain": [
       "<Figure size 640x480 with 1 Axes>"
      ]
     },
     "metadata": {},
     "output_type": "display_data"
    }
   ],
   "source": [
    "plt.figure()\n",
    "\n",
    "plt.hist(df_new[\"year\"], bins=len(df_new[\"year\"].unique()))\n",
    "\n",
    "plt.grid()\n",
    "plt.title(\"Гистограмма частот годов выпуска\")\n",
    "plt.ylabel(\"Частота\")\n",
    "plt.xlabel(\"Год\");"
   ]
  },
  {
   "cell_type": "code",
   "execution_count": 18,
   "id": "1096e1b6",
   "metadata": {},
   "outputs": [
    {
     "data": {
      "image/png": "[encoded data removed]",
      "text/plain": [
       "<Figure size 640x480 with 1 Axes>"
      ]
     },
     "metadata": {},
     "output_type": "display_data"
    }
   ],
   "source": [
    "plt.figure()\n",
    "\n",
    "plt.hist(df_new[\"odometer\"], bins=\"auto\")\n",
    "\n",
    "plt.grid()\n",
    "plt.title(\"Гистограмма частот пробега\")\n",
    "plt.ylabel(\"Частота\")\n",
    "plt.xlabel(\"Пробег\");"
   ]
  },
  {
   "cell_type": "markdown",
   "id": "c7f9dc2a",
   "metadata": {},
   "source": [
    "## 4. Постройте график для категориальных переменных."
   ]
  },
  {
   "cell_type": "code",
   "execution_count": 19,
   "id": "64bad943",
   "metadata": {},
   "outputs": [
    {
     "data": {
      "text/html": [
       "<div>\n",
       "<style scoped>\n",
       "    .dataframe tbody tr th:only-of-type {\n",
       "        vertical-align: middle;\n",
       "    }\n",
       "\n",
       "    .dataframe tbody tr th {\n",
       "        vertical-align: top;\n",
       "    }\n",
       "\n",
       "    .dataframe thead th {\n",
       "        text-align: right;\n",
       "    }\n",
       "</style>\n",
       "<table border=\"1\" class=\"dataframe\">\n",
       "  <thead>\n",
       "    <tr style=\"text-align: right;\">\n",
       "      <th></th>\n",
       "      <th>state</th>\n",
       "      <th>count</th>\n",
       "    </tr>\n",
       "  </thead>\n",
       "  <tbody>\n",
       "    <tr>\n",
       "      <th>4</th>\n",
       "      <td>ca</td>\n",
       "      <td>1106</td>\n",
       "    </tr>\n",
       "    <tr>\n",
       "      <th>9</th>\n",
       "      <td>fl</td>\n",
       "      <td>672</td>\n",
       "    </tr>\n",
       "    <tr>\n",
       "      <th>43</th>\n",
       "      <td>tx</td>\n",
       "      <td>533</td>\n",
       "    </tr>\n",
       "    <tr>\n",
       "      <th>22</th>\n",
       "      <td>mi</td>\n",
       "      <td>461</td>\n",
       "    </tr>\n",
       "    <tr>\n",
       "      <th>34</th>\n",
       "      <td>ny</td>\n",
       "      <td>447</td>\n",
       "    </tr>\n",
       "    <tr>\n",
       "      <th>35</th>\n",
       "      <td>oh</td>\n",
       "      <td>408</td>\n",
       "    </tr>\n",
       "    <tr>\n",
       "      <th>38</th>\n",
       "      <td>pa</td>\n",
       "      <td>354</td>\n",
       "    </tr>\n",
       "    <tr>\n",
       "      <th>37</th>\n",
       "      <td>or</td>\n",
       "      <td>332</td>\n",
       "    </tr>\n",
       "    <tr>\n",
       "      <th>27</th>\n",
       "      <td>nc</td>\n",
       "      <td>324</td>\n",
       "    </tr>\n",
       "    <tr>\n",
       "      <th>47</th>\n",
       "      <td>wa</td>\n",
       "      <td>312</td>\n",
       "    </tr>\n",
       "    <tr>\n",
       "      <th>5</th>\n",
       "      <td>co</td>\n",
       "      <td>290</td>\n",
       "    </tr>\n",
       "    <tr>\n",
       "      <th>48</th>\n",
       "      <td>wi</td>\n",
       "      <td>289</td>\n",
       "    </tr>\n",
       "    <tr>\n",
       "      <th>14</th>\n",
       "      <td>il</td>\n",
       "      <td>250</td>\n",
       "    </tr>\n",
       "    <tr>\n",
       "      <th>31</th>\n",
       "      <td>nj</td>\n",
       "      <td>237</td>\n",
       "    </tr>\n",
       "    <tr>\n",
       "      <th>42</th>\n",
       "      <td>tn</td>\n",
       "      <td>231</td>\n",
       "    </tr>\n",
       "    <tr>\n",
       "      <th>45</th>\n",
       "      <td>va</td>\n",
       "      <td>222</td>\n",
       "    </tr>\n",
       "    <tr>\n",
       "      <th>3</th>\n",
       "      <td>az</td>\n",
       "      <td>211</td>\n",
       "    </tr>\n",
       "    <tr>\n",
       "      <th>23</th>\n",
       "      <td>mn</td>\n",
       "      <td>201</td>\n",
       "    </tr>\n",
       "    <tr>\n",
       "      <th>12</th>\n",
       "      <td>ia</td>\n",
       "      <td>200</td>\n",
       "    </tr>\n",
       "    <tr>\n",
       "      <th>13</th>\n",
       "      <td>id</td>\n",
       "      <td>198</td>\n",
       "    </tr>\n",
       "    <tr>\n",
       "      <th>16</th>\n",
       "      <td>ks</td>\n",
       "      <td>170</td>\n",
       "    </tr>\n",
       "    <tr>\n",
       "      <th>10</th>\n",
       "      <td>ga</td>\n",
       "      <td>169</td>\n",
       "    </tr>\n",
       "    <tr>\n",
       "      <th>19</th>\n",
       "      <td>ma</td>\n",
       "      <td>169</td>\n",
       "    </tr>\n",
       "    <tr>\n",
       "      <th>36</th>\n",
       "      <td>ok</td>\n",
       "      <td>161</td>\n",
       "    </tr>\n",
       "    <tr>\n",
       "      <th>26</th>\n",
       "      <td>mt</td>\n",
       "      <td>150</td>\n",
       "    </tr>\n",
       "    <tr>\n",
       "      <th>40</th>\n",
       "      <td>sc</td>\n",
       "      <td>135</td>\n",
       "    </tr>\n",
       "    <tr>\n",
       "      <th>15</th>\n",
       "      <td>in</td>\n",
       "      <td>135</td>\n",
       "    </tr>\n",
       "    <tr>\n",
       "      <th>20</th>\n",
       "      <td>md</td>\n",
       "      <td>120</td>\n",
       "    </tr>\n",
       "    <tr>\n",
       "      <th>6</th>\n",
       "      <td>ct</td>\n",
       "      <td>115</td>\n",
       "    </tr>\n",
       "    <tr>\n",
       "      <th>1</th>\n",
       "      <td>al</td>\n",
       "      <td>100</td>\n",
       "    </tr>\n",
       "    <tr>\n",
       "      <th>17</th>\n",
       "      <td>ky</td>\n",
       "      <td>98</td>\n",
       "    </tr>\n",
       "    <tr>\n",
       "      <th>24</th>\n",
       "      <td>mo</td>\n",
       "      <td>94</td>\n",
       "    </tr>\n",
       "    <tr>\n",
       "      <th>0</th>\n",
       "      <td>ak</td>\n",
       "      <td>89</td>\n",
       "    </tr>\n",
       "    <tr>\n",
       "      <th>32</th>\n",
       "      <td>nm</td>\n",
       "      <td>86</td>\n",
       "    </tr>\n",
       "    <tr>\n",
       "      <th>18</th>\n",
       "      <td>la</td>\n",
       "      <td>76</td>\n",
       "    </tr>\n",
       "    <tr>\n",
       "      <th>2</th>\n",
       "      <td>ar</td>\n",
       "      <td>75</td>\n",
       "    </tr>\n",
       "    <tr>\n",
       "      <th>33</th>\n",
       "      <td>nv</td>\n",
       "      <td>74</td>\n",
       "    </tr>\n",
       "    <tr>\n",
       "      <th>7</th>\n",
       "      <td>dc</td>\n",
       "      <td>72</td>\n",
       "    </tr>\n",
       "    <tr>\n",
       "      <th>39</th>\n",
       "      <td>ri</td>\n",
       "      <td>70</td>\n",
       "    </tr>\n",
       "    <tr>\n",
       "      <th>30</th>\n",
       "      <td>nh</td>\n",
       "      <td>68</td>\n",
       "    </tr>\n",
       "    <tr>\n",
       "      <th>21</th>\n",
       "      <td>me</td>\n",
       "      <td>67</td>\n",
       "    </tr>\n",
       "    <tr>\n",
       "      <th>46</th>\n",
       "      <td>vt</td>\n",
       "      <td>62</td>\n",
       "    </tr>\n",
       "    <tr>\n",
       "      <th>11</th>\n",
       "      <td>hi</td>\n",
       "      <td>55</td>\n",
       "    </tr>\n",
       "    <tr>\n",
       "      <th>41</th>\n",
       "      <td>sd</td>\n",
       "      <td>37</td>\n",
       "    </tr>\n",
       "    <tr>\n",
       "      <th>44</th>\n",
       "      <td>ut</td>\n",
       "      <td>31</td>\n",
       "    </tr>\n",
       "    <tr>\n",
       "      <th>25</th>\n",
       "      <td>ms</td>\n",
       "      <td>28</td>\n",
       "    </tr>\n",
       "    <tr>\n",
       "      <th>29</th>\n",
       "      <td>ne</td>\n",
       "      <td>25</td>\n",
       "    </tr>\n",
       "    <tr>\n",
       "      <th>49</th>\n",
       "      <td>wv</td>\n",
       "      <td>20</td>\n",
       "    </tr>\n",
       "    <tr>\n",
       "      <th>8</th>\n",
       "      <td>de</td>\n",
       "      <td>18</td>\n",
       "    </tr>\n",
       "    <tr>\n",
       "      <th>50</th>\n",
       "      <td>wy</td>\n",
       "      <td>13</td>\n",
       "    </tr>\n",
       "    <tr>\n",
       "      <th>28</th>\n",
       "      <td>nd</td>\n",
       "      <td>8</td>\n",
       "    </tr>\n",
       "  </tbody>\n",
       "</table>\n",
       "</div>"
      ],
      "text/plain": [
       "   state  count\n",
       "4     ca   1106\n",
       "9     fl    672\n",
       "43    tx    533\n",
       "22    mi    461\n",
       "34    ny    447\n",
       "35    oh    408\n",
       "38    pa    354\n",
       "37    or    332\n",
       "27    nc    324\n",
       "47    wa    312\n",
       "5     co    290\n",
       "48    wi    289\n",
       "14    il    250\n",
       "31    nj    237\n",
       "42    tn    231\n",
       "45    va    222\n",
       "3     az    211\n",
       "23    mn    201\n",
       "12    ia    200\n",
       "13    id    198\n",
       "16    ks    170\n",
       "10    ga    169\n",
       "19    ma    169\n",
       "36    ok    161\n",
       "26    mt    150\n",
       "40    sc    135\n",
       "15    in    135\n",
       "20    md    120\n",
       "6     ct    115\n",
       "1     al    100\n",
       "17    ky     98\n",
       "24    mo     94\n",
       "0     ak     89\n",
       "32    nm     86\n",
       "18    la     76\n",
       "2     ar     75\n",
       "33    nv     74\n",
       "7     dc     72\n",
       "39    ri     70\n",
       "30    nh     68\n",
       "21    me     67\n",
       "46    vt     62\n",
       "11    hi     55\n",
       "41    sd     37\n",
       "44    ut     31\n",
       "25    ms     28\n",
       "29    ne     25\n",
       "49    wv     20\n",
       "8     de     18\n",
       "50    wy     13\n",
       "28    nd      8"
      ]
     },
     "execution_count": 19,
     "metadata": {},
     "output_type": "execute_result"
    }
   ],
   "source": [
    "stats_state = df_new.groupby(\"state\", as_index=False)[[\"id\"]].count()\n",
    "stats_state = stats_state.rename(columns={\"id\": \"count\"})\n",
    "stats_state = stats_state.sort_values(by=\"count\", ascending=False)\n",
    "stats_state"
   ]
  },
  {
   "cell_type": "code",
   "execution_count": 20,
   "id": "c4f7aa4c",
   "metadata": {},
   "outputs": [
    {
     "data": {
      "text/plain": [
       "([0,\n",
       "  1,\n",
       "  2,\n",
       "  3,\n",
       "  4,\n",
       "  5,\n",
       "  6,\n",
       "  7,\n",
       "  8,\n",
       "  9,\n",
       "  10,\n",
       "  11,\n",
       "  12,\n",
       "  13,\n",
       "  14,\n",
       "  15,\n",
       "  16,\n",
       "  17,\n",
       "  18,\n",
       "  19,\n",
       "  20,\n",
       "  21,\n",
       "  22,\n",
       "  23,\n",
       "  24,\n",
       "  25,\n",
       "  26,\n",
       "  27,\n",
       "  28,\n",
       "  29,\n",
       "  30,\n",
       "  31,\n",
       "  32,\n",
       "  33,\n",
       "  34,\n",
       "  35,\n",
       "  36,\n",
       "  37,\n",
       "  38,\n",
       "  39,\n",
       "  40,\n",
       "  41,\n",
       "  42,\n",
       "  43,\n",
       "  44,\n",
       "  45,\n",
       "  46,\n",
       "  47,\n",
       "  48,\n",
       "  49,\n",
       "  50],\n",
       " [Text(0, 0, 'ca'),\n",
       "  Text(1, 0, 'fl'),\n",
       "  Text(2, 0, 'tx'),\n",
       "  Text(3, 0, 'mi'),\n",
       "  Text(4, 0, 'ny'),\n",
       "  Text(5, 0, 'oh'),\n",
       "  Text(6, 0, 'pa'),\n",
       "  Text(7, 0, 'or'),\n",
       "  Text(8, 0, 'nc'),\n",
       "  Text(9, 0, 'wa'),\n",
       "  Text(10, 0, 'co'),\n",
       "  Text(11, 0, 'wi'),\n",
       "  Text(12, 0, 'il'),\n",
       "  Text(13, 0, 'nj'),\n",
       "  Text(14, 0, 'tn'),\n",
       "  Text(15, 0, 'va'),\n",
       "  Text(16, 0, 'az'),\n",
       "  Text(17, 0, 'mn'),\n",
       "  Text(18, 0, 'ia'),\n",
       "  Text(19, 0, 'id'),\n",
       "  Text(20, 0, 'ks'),\n",
       "  Text(21, 0, 'ga'),\n",
       "  Text(22, 0, 'ma'),\n",
       "  Text(23, 0, 'ok'),\n",
       "  Text(24, 0, 'mt'),\n",
       "  Text(25, 0, 'sc'),\n",
       "  Text(26, 0, 'in'),\n",
       "  Text(27, 0, 'md'),\n",
       "  Text(28, 0, 'ct'),\n",
       "  Text(29, 0, 'al'),\n",
       "  Text(30, 0, 'ky'),\n",
       "  Text(31, 0, 'mo'),\n",
       "  Text(32, 0, 'ak'),\n",
       "  Text(33, 0, 'nm'),\n",
       "  Text(34, 0, 'la'),\n",
       "  Text(35, 0, 'ar'),\n",
       "  Text(36, 0, 'nv'),\n",
       "  Text(37, 0, 'dc'),\n",
       "  Text(38, 0, 'ri'),\n",
       "  Text(39, 0, 'nh'),\n",
       "  Text(40, 0, 'me'),\n",
       "  Text(41, 0, 'vt'),\n",
       "  Text(42, 0, 'hi'),\n",
       "  Text(43, 0, 'sd'),\n",
       "  Text(44, 0, 'ut'),\n",
       "  Text(45, 0, 'ms'),\n",
       "  Text(46, 0, 'ne'),\n",
       "  Text(47, 0, 'wv'),\n",
       "  Text(48, 0, 'de'),\n",
       "  Text(49, 0, 'wy'),\n",
       "  Text(50, 0, 'nd')])"
      ]
     },
     "execution_count": 20,
     "metadata": {},
     "output_type": "execute_result"
    },
    {
     "data": {
      "image/png": "[encoded data removed]",
      "text/plain": [
       "<Figure size 1200x600 with 1 Axes>"
      ]
     },
     "metadata": {},
     "output_type": "display_data"
    }
   ],
   "source": [
    "plt.figure(figsize=(12, 6))\n",
    "\n",
    "plt.bar(stats_state[\"state\"], stats_state[\"count\"])\n",
    "\n",
    "plt.grid()\n",
    "plt.title(\"Частота объявлений по штатам\")\n",
    "plt.ylabel(\"Частота\")\n",
    "plt.xlabel(\"Штат\")\n",
    "plt.xticks(rotation=90)\n"
   ]
  },
  {
   "cell_type": "code",
   "execution_count": 21,
   "id": "4d68ce90",
   "metadata": {},
   "outputs": [
    {
     "data": {
      "text/html": [
       "<div>\n",
       "<style scoped>\n",
       "    .dataframe tbody tr th:only-of-type {\n",
       "        vertical-align: middle;\n",
       "    }\n",
       "\n",
       "    .dataframe tbody tr th {\n",
       "        vertical-align: top;\n",
       "    }\n",
       "\n",
       "    .dataframe thead th {\n",
       "        text-align: right;\n",
       "    }\n",
       "</style>\n",
       "<table border=\"1\" class=\"dataframe\">\n",
       "  <thead>\n",
       "    <tr style=\"text-align: right;\">\n",
       "      <th></th>\n",
       "      <th>fuel</th>\n",
       "      <th>count</th>\n",
       "    </tr>\n",
       "  </thead>\n",
       "  <tbody>\n",
       "    <tr>\n",
       "      <th>0</th>\n",
       "      <td>diesel</td>\n",
       "      <td>643</td>\n",
       "    </tr>\n",
       "    <tr>\n",
       "      <th>1</th>\n",
       "      <td>electric</td>\n",
       "      <td>44</td>\n",
       "    </tr>\n",
       "    <tr>\n",
       "      <th>2</th>\n",
       "      <td>gas</td>\n",
       "      <td>8298</td>\n",
       "    </tr>\n",
       "    <tr>\n",
       "      <th>3</th>\n",
       "      <td>hybrid</td>\n",
       "      <td>104</td>\n",
       "    </tr>\n",
       "    <tr>\n",
       "      <th>4</th>\n",
       "      <td>other</td>\n",
       "      <td>779</td>\n",
       "    </tr>\n",
       "  </tbody>\n",
       "</table>\n",
       "</div>"
      ],
      "text/plain": [
       "       fuel  count\n",
       "0    diesel    643\n",
       "1  electric     44\n",
       "2       gas   8298\n",
       "3    hybrid    104\n",
       "4     other    779"
      ]
     },
     "execution_count": 21,
     "metadata": {},
     "output_type": "execute_result"
    }
   ],
   "source": [
    "stats_fuel = df_new.groupby(\"fuel\", as_index=False)[[\"id\"]].count()\n",
    "stats_fuel = stats_fuel.rename(columns={\"id\": \"count\"})\n",
    "# stats_fuel = stats_fuel.sort_values(by=\"count\", ascending=False)\n",
    "stats_fuel"
   ]
  },
  {
   "cell_type": "code",
   "execution_count": 22,
   "id": "dd093e34",
   "metadata": {},
   "outputs": [
    {
     "data": {
      "image/png": "[encoded data removed]",
      "text/plain": [
       "<Figure size 1000x1000 with 1 Axes>"
      ]
     },
     "metadata": {},
     "output_type": "display_data"
    }
   ],
   "source": [
    "plt.figure(figsize=(10, 10))\n",
    "\n",
    "plt.pie(\n",
    "    stats_fuel[\"count\"],\n",
    "    labels=stats_fuel[\"fuel\"],\n",
    "    autopct=\"%1.1f%%\",\n",
    "    labeldistance=None,\n",
    ")\n",
    "\n",
    "plt.legend()\n",
    "plt.title(\"Распределение типов топлива\");"
   ]
  },
  {
   "cell_type": "markdown",
   "id": "be10c639",
   "metadata": {},
   "source": [
    "## 5. Исследуйте зависимости в данных."
   ]
  },
  {
   "cell_type": "code",
   "execution_count": 23,
   "id": "a143fe56",
   "metadata": {},
   "outputs": [
    {
     "ename": "ValueError",
     "evalue": "could not convert string to float: 'https://chattanooga.craigslist.org/ctd/d/chattanooga-2020-ram-2500-crew-cab-big/7308295377.html'",
     "output_type": "error",
     "traceback": [
      "\u001b[1;31m---------------------------------------------------------------------------\u001b[0m",
      "\u001b[1;31mValueError\u001b[0m                                Traceback (most recent call last)",
      "Cell \u001b[1;32mIn[23], line 1\u001b[0m\n\u001b[1;32m----> 1\u001b[0m \u001b[43mdf_new\u001b[49m\u001b[38;5;241;43m.\u001b[39;49m\u001b[43mcorr\u001b[49m\u001b[43m(\u001b[49m\u001b[43m)\u001b[49m\n",
      "File \u001b[1;32mc:\\Users\\VOVAM\\prog\\data_science_pro_course\\.venv\\lib\\site-packages\\pandas\\core\\frame.py:11056\u001b[0m, in \u001b[0;36mDataFrame.corr\u001b[1;34m(self, method, min_periods, numeric_only)\u001b[0m\n\u001b[0;32m  11054\u001b[0m cols \u001b[38;5;241m=\u001b[39m data\u001b[38;5;241m.\u001b[39mcolumns\n\u001b[0;32m  11055\u001b[0m idx \u001b[38;5;241m=\u001b[39m cols\u001b[38;5;241m.\u001b[39mcopy()\n\u001b[1;32m> 11056\u001b[0m mat \u001b[38;5;241m=\u001b[39m \u001b[43mdata\u001b[49m\u001b[38;5;241;43m.\u001b[39;49m\u001b[43mto_numpy\u001b[49m\u001b[43m(\u001b[49m\u001b[43mdtype\u001b[49m\u001b[38;5;241;43m=\u001b[39;49m\u001b[38;5;28;43mfloat\u001b[39;49m\u001b[43m,\u001b[49m\u001b[43m \u001b[49m\u001b[43mna_value\u001b[49m\u001b[38;5;241;43m=\u001b[39;49m\u001b[43mnp\u001b[49m\u001b[38;5;241;43m.\u001b[39;49m\u001b[43mnan\u001b[49m\u001b[43m,\u001b[49m\u001b[43m \u001b[49m\u001b[43mcopy\u001b[49m\u001b[38;5;241;43m=\u001b[39;49m\u001b[38;5;28;43;01mFalse\u001b[39;49;00m\u001b[43m)\u001b[49m\n\u001b[0;32m  11058\u001b[0m \u001b[38;5;28;01mif\u001b[39;00m method \u001b[38;5;241m==\u001b[39m \u001b[38;5;124m\"\u001b[39m\u001b[38;5;124mpearson\u001b[39m\u001b[38;5;124m\"\u001b[39m:\n\u001b[0;32m  11059\u001b[0m     correl \u001b[38;5;241m=\u001b[39m libalgos\u001b[38;5;241m.\u001b[39mnancorr(mat, minp\u001b[38;5;241m=\u001b[39mmin_periods)\n",
      "File \u001b[1;32mc:\\Users\\VOVAM\\prog\\data_science_pro_course\\.venv\\lib\\site-packages\\pandas\\core\\frame.py:1998\u001b[0m, in \u001b[0;36mDataFrame.to_numpy\u001b[1;34m(self, dtype, copy, na_value)\u001b[0m\n\u001b[0;32m   1996\u001b[0m \u001b[38;5;28;01mif\u001b[39;00m dtype \u001b[38;5;129;01mis\u001b[39;00m \u001b[38;5;129;01mnot\u001b[39;00m \u001b[38;5;28;01mNone\u001b[39;00m:\n\u001b[0;32m   1997\u001b[0m     dtype \u001b[38;5;241m=\u001b[39m np\u001b[38;5;241m.\u001b[39mdtype(dtype)\n\u001b[1;32m-> 1998\u001b[0m result \u001b[38;5;241m=\u001b[39m \u001b[38;5;28;43mself\u001b[39;49m\u001b[38;5;241;43m.\u001b[39;49m\u001b[43m_mgr\u001b[49m\u001b[38;5;241;43m.\u001b[39;49m\u001b[43mas_array\u001b[49m\u001b[43m(\u001b[49m\u001b[43mdtype\u001b[49m\u001b[38;5;241;43m=\u001b[39;49m\u001b[43mdtype\u001b[49m\u001b[43m,\u001b[49m\u001b[43m \u001b[49m\u001b[43mcopy\u001b[49m\u001b[38;5;241;43m=\u001b[39;49m\u001b[43mcopy\u001b[49m\u001b[43m,\u001b[49m\u001b[43m \u001b[49m\u001b[43mna_value\u001b[49m\u001b[38;5;241;43m=\u001b[39;49m\u001b[43mna_value\u001b[49m\u001b[43m)\u001b[49m\n\u001b[0;32m   1999\u001b[0m \u001b[38;5;28;01mif\u001b[39;00m result\u001b[38;5;241m.\u001b[39mdtype \u001b[38;5;129;01mis\u001b[39;00m \u001b[38;5;129;01mnot\u001b[39;00m dtype:\n\u001b[0;32m   2000\u001b[0m     result \u001b[38;5;241m=\u001b[39m np\u001b[38;5;241m.\u001b[39masarray(result, dtype\u001b[38;5;241m=\u001b[39mdtype)\n",
      "File \u001b[1;32mc:\\Users\\VOVAM\\prog\\data_science_pro_course\\.venv\\lib\\site-packages\\pandas\\core\\internals\\managers.py:1694\u001b[0m, in \u001b[0;36mBlockManager.as_array\u001b[1;34m(self, dtype, copy, na_value)\u001b[0m\n\u001b[0;32m   1692\u001b[0m         arr\u001b[38;5;241m.\u001b[39mflags\u001b[38;5;241m.\u001b[39mwriteable \u001b[38;5;241m=\u001b[39m \u001b[38;5;28;01mFalse\u001b[39;00m\n\u001b[0;32m   1693\u001b[0m \u001b[38;5;28;01melse\u001b[39;00m:\n\u001b[1;32m-> 1694\u001b[0m     arr \u001b[38;5;241m=\u001b[39m \u001b[38;5;28;43mself\u001b[39;49m\u001b[38;5;241;43m.\u001b[39;49m\u001b[43m_interleave\u001b[49m\u001b[43m(\u001b[49m\u001b[43mdtype\u001b[49m\u001b[38;5;241;43m=\u001b[39;49m\u001b[43mdtype\u001b[49m\u001b[43m,\u001b[49m\u001b[43m \u001b[49m\u001b[43mna_value\u001b[49m\u001b[38;5;241;43m=\u001b[39;49m\u001b[43mna_value\u001b[49m\u001b[43m)\u001b[49m\n\u001b[0;32m   1695\u001b[0m     \u001b[38;5;66;03m# The underlying data was copied within _interleave, so no need\u001b[39;00m\n\u001b[0;32m   1696\u001b[0m     \u001b[38;5;66;03m# to further copy if copy=True or setting na_value\u001b[39;00m\n\u001b[0;32m   1698\u001b[0m \u001b[38;5;28;01mif\u001b[39;00m na_value \u001b[38;5;129;01mis\u001b[39;00m lib\u001b[38;5;241m.\u001b[39mno_default:\n",
      "File \u001b[1;32mc:\\Users\\VOVAM\\prog\\data_science_pro_course\\.venv\\lib\\site-packages\\pandas\\core\\internals\\managers.py:1753\u001b[0m, in \u001b[0;36mBlockManager._interleave\u001b[1;34m(self, dtype, na_value)\u001b[0m\n\u001b[0;32m   1751\u001b[0m     \u001b[38;5;28;01melse\u001b[39;00m:\n\u001b[0;32m   1752\u001b[0m         arr \u001b[38;5;241m=\u001b[39m blk\u001b[38;5;241m.\u001b[39mget_values(dtype)\n\u001b[1;32m-> 1753\u001b[0m     \u001b[43mresult\u001b[49m\u001b[43m[\u001b[49m\u001b[43mrl\u001b[49m\u001b[38;5;241;43m.\u001b[39;49m\u001b[43mindexer\u001b[49m\u001b[43m]\u001b[49m \u001b[38;5;241m=\u001b[39m arr\n\u001b[0;32m   1754\u001b[0m     itemmask[rl\u001b[38;5;241m.\u001b[39mindexer] \u001b[38;5;241m=\u001b[39m \u001b[38;5;241m1\u001b[39m\n\u001b[0;32m   1756\u001b[0m \u001b[38;5;28;01mif\u001b[39;00m \u001b[38;5;129;01mnot\u001b[39;00m itemmask\u001b[38;5;241m.\u001b[39mall():\n",
      "\u001b[1;31mValueError\u001b[0m: could not convert string to float: 'https://chattanooga.craigslist.org/ctd/d/chattanooga-2020-ram-2500-crew-cab-big/7308295377.html'"
     ]
    }
   ],
   "source": [
    "df_new.corr()"
   ]
  },
  {
   "cell_type": "code",
   "execution_count": 24,
   "id": "eb6845cf",
   "metadata": {},
   "outputs": [],
   "source": [
    "df_temp_for_corr = df_new.copy()\n",
    "\n",
    "df_temp_for_corr = df_temp_for_corr.drop(\n",
    "    [\n",
    "        \"id\",\n",
    "        \"url\",\n",
    "        \"region\",\n",
    "        \"manufacturer\",\n",
    "        \"model\",\n",
    "        \"region_url\",\n",
    "        \"image_url\",\n",
    "        \"posting_date\",\n",
    "        \"description\",\n",
    "        \"lat\",\n",
    "        \"long\",\n",
    "    ],\n",
    "    axis=1,\n",
    ")"
   ]
  },
  {
   "cell_type": "code",
   "execution_count": 25,
   "id": "042323dc",
   "metadata": {},
   "outputs": [
    {
     "data": {
      "text/html": [
       "<div>\n",
       "<style scoped>\n",
       "    .dataframe tbody tr th:only-of-type {\n",
       "        vertical-align: middle;\n",
       "    }\n",
       "\n",
       "    .dataframe tbody tr th {\n",
       "        vertical-align: top;\n",
       "    }\n",
       "\n",
       "    .dataframe thead th {\n",
       "        text-align: right;\n",
       "    }\n",
       "</style>\n",
       "<table border=\"1\" class=\"dataframe\">\n",
       "  <thead>\n",
       "    <tr style=\"text-align: right;\">\n",
       "      <th></th>\n",
       "      <th>price</th>\n",
       "      <th>year</th>\n",
       "      <th>fuel</th>\n",
       "      <th>odometer</th>\n",
       "      <th>title_status</th>\n",
       "      <th>transmission</th>\n",
       "      <th>state</th>\n",
       "      <th>price_category</th>\n",
       "      <th>date</th>\n",
       "    </tr>\n",
       "  </thead>\n",
       "  <tbody>\n",
       "    <tr>\n",
       "      <th>0</th>\n",
       "      <td>54990</td>\n",
       "      <td>2020</td>\n",
       "      <td>diesel</td>\n",
       "      <td>27442</td>\n",
       "      <td>clean</td>\n",
       "      <td>other</td>\n",
       "      <td>tn</td>\n",
       "      <td>high</td>\n",
       "      <td>2021-04-17 16:30:50+00:00</td>\n",
       "    </tr>\n",
       "    <tr>\n",
       "      <th>1</th>\n",
       "      <td>16942</td>\n",
       "      <td>2016</td>\n",
       "      <td>other</td>\n",
       "      <td>60023</td>\n",
       "      <td>clean</td>\n",
       "      <td>automatic</td>\n",
       "      <td>nj</td>\n",
       "      <td>medium</td>\n",
       "      <td>2021-05-03 19:40:21+00:00</td>\n",
       "    </tr>\n",
       "    <tr>\n",
       "      <th>2</th>\n",
       "      <td>35590</td>\n",
       "      <td>2017</td>\n",
       "      <td>gas</td>\n",
       "      <td>14048</td>\n",
       "      <td>clean</td>\n",
       "      <td>other</td>\n",
       "      <td>ca</td>\n",
       "      <td>high</td>\n",
       "      <td>2021-04-28 10:52:20+00:00</td>\n",
       "    </tr>\n",
       "    <tr>\n",
       "      <th>3</th>\n",
       "      <td>14500</td>\n",
       "      <td>2013</td>\n",
       "      <td>gas</td>\n",
       "      <td>117291</td>\n",
       "      <td>clean</td>\n",
       "      <td>automatic</td>\n",
       "      <td>nc</td>\n",
       "      <td>medium</td>\n",
       "      <td>2021-04-17 14:08:57+00:00</td>\n",
       "    </tr>\n",
       "    <tr>\n",
       "      <th>4</th>\n",
       "      <td>21800</td>\n",
       "      <td>2021</td>\n",
       "      <td>gas</td>\n",
       "      <td>8000</td>\n",
       "      <td>clean</td>\n",
       "      <td>automatic</td>\n",
       "      <td>ny</td>\n",
       "      <td>medium</td>\n",
       "      <td>2021-05-03 22:32:06+00:00</td>\n",
       "    </tr>\n",
       "    <tr>\n",
       "      <th>...</th>\n",
       "      <td>...</td>\n",
       "      <td>...</td>\n",
       "      <td>...</td>\n",
       "      <td>...</td>\n",
       "      <td>...</td>\n",
       "      <td>...</td>\n",
       "      <td>...</td>\n",
       "      <td>...</td>\n",
       "      <td>...</td>\n",
       "    </tr>\n",
       "    <tr>\n",
       "      <th>9863</th>\n",
       "      <td>4495</td>\n",
       "      <td>2002</td>\n",
       "      <td>gas</td>\n",
       "      <td>150000</td>\n",
       "      <td>clean</td>\n",
       "      <td>automatic</td>\n",
       "      <td>ny</td>\n",
       "      <td>low</td>\n",
       "      <td>2021-04-10 20:33:57+00:00</td>\n",
       "    </tr>\n",
       "    <tr>\n",
       "      <th>9864</th>\n",
       "      <td>14495</td>\n",
       "      <td>2008</td>\n",
       "      <td>gas</td>\n",
       "      <td>113573</td>\n",
       "      <td>clean</td>\n",
       "      <td>other</td>\n",
       "      <td>ny</td>\n",
       "      <td>medium</td>\n",
       "      <td>2021-05-03 13:36:30+00:00</td>\n",
       "    </tr>\n",
       "    <tr>\n",
       "      <th>9865</th>\n",
       "      <td>8995</td>\n",
       "      <td>2011</td>\n",
       "      <td>gas</td>\n",
       "      <td>150184</td>\n",
       "      <td>clean</td>\n",
       "      <td>automatic</td>\n",
       "      <td>or</td>\n",
       "      <td>low</td>\n",
       "      <td>2021-04-22 19:14:01+00:00</td>\n",
       "    </tr>\n",
       "    <tr>\n",
       "      <th>9866</th>\n",
       "      <td>31900</td>\n",
       "      <td>2015</td>\n",
       "      <td>hybrid</td>\n",
       "      <td>61943</td>\n",
       "      <td>clean</td>\n",
       "      <td>automatic</td>\n",
       "      <td>wi</td>\n",
       "      <td>high</td>\n",
       "      <td>2021-04-14 14:14:42+00:00</td>\n",
       "    </tr>\n",
       "    <tr>\n",
       "      <th>9867</th>\n",
       "      <td>31990</td>\n",
       "      <td>2017</td>\n",
       "      <td>gas</td>\n",
       "      <td>35921</td>\n",
       "      <td>clean</td>\n",
       "      <td>other</td>\n",
       "      <td>va</td>\n",
       "      <td>high</td>\n",
       "      <td>2021-04-24 17:50:49+00:00</td>\n",
       "    </tr>\n",
       "  </tbody>\n",
       "</table>\n",
       "<p>9868 rows × 9 columns</p>\n",
       "</div>"
      ],
      "text/plain": [
       "      price  year    fuel  odometer title_status transmission state  \\\n",
       "0     54990  2020  diesel     27442        clean        other    tn   \n",
       "1     16942  2016   other     60023        clean    automatic    nj   \n",
       "2     35590  2017     gas     14048        clean        other    ca   \n",
       "3     14500  2013     gas    117291        clean    automatic    nc   \n",
       "4     21800  2021     gas      8000        clean    automatic    ny   \n",
       "...     ...   ...     ...       ...          ...          ...   ...   \n",
       "9863   4495  2002     gas    150000        clean    automatic    ny   \n",
       "9864  14495  2008     gas    113573        clean        other    ny   \n",
       "9865   8995  2011     gas    150184        clean    automatic    or   \n",
       "9866  31900  2015  hybrid     61943        clean    automatic    wi   \n",
       "9867  31990  2017     gas     35921        clean        other    va   \n",
       "\n",
       "     price_category                       date  \n",
       "0              high  2021-04-17 16:30:50+00:00  \n",
       "1            medium  2021-05-03 19:40:21+00:00  \n",
       "2              high  2021-04-28 10:52:20+00:00  \n",
       "3            medium  2021-04-17 14:08:57+00:00  \n",
       "4            medium  2021-05-03 22:32:06+00:00  \n",
       "...             ...                        ...  \n",
       "9863            low  2021-04-10 20:33:57+00:00  \n",
       "9864         medium  2021-05-03 13:36:30+00:00  \n",
       "9865            low  2021-04-22 19:14:01+00:00  \n",
       "9866           high  2021-04-14 14:14:42+00:00  \n",
       "9867           high  2021-04-24 17:50:49+00:00  \n",
       "\n",
       "[9868 rows x 9 columns]"
      ]
     },
     "execution_count": 25,
     "metadata": {},
     "output_type": "execute_result"
    }
   ],
   "source": [
    "df_temp_for_corr"
   ]
  },
  {
   "cell_type": "code",
   "execution_count": 26,
   "id": "4465c002",
   "metadata": {},
   "outputs": [
    {
     "data": {
      "text/plain": [
       "array(['high', 'medium', 'low'], dtype=object)"
      ]
     },
     "execution_count": 26,
     "metadata": {},
     "output_type": "execute_result"
    }
   ],
   "source": [
    "df_temp_for_corr[\"price_category\"].unique()"
   ]
  },
  {
   "cell_type": "code",
   "execution_count": 27,
   "id": "8dc6a1fa",
   "metadata": {},
   "outputs": [],
   "source": [
    "df_temp_for_corr[\"price_category\"] = df_temp_for_corr[\"price_category\"].apply(\n",
    "    lambda x: {\"low\": 0, \"medium\": 1, \"high\": 2}.get(x, -1)\n",
    ")"
   ]
  },
  {
   "cell_type": "code",
   "execution_count": 28,
   "id": "e519663a",
   "metadata": {},
   "outputs": [
    {
     "data": {
      "text/plain": [
       "array(['clean', 'rebuilt', 'salvage', 'lien', 'missing', 'parts only'],\n",
       "      dtype=object)"
      ]
     },
     "execution_count": 28,
     "metadata": {},
     "output_type": "execute_result"
    }
   ],
   "source": [
    "df_temp_for_corr[\"title_status\"].unique()"
   ]
  },
  {
   "cell_type": "code",
   "execution_count": 29,
   "id": "db9b2cc2",
   "metadata": {},
   "outputs": [],
   "source": [
    "for i, v in enumerate(df_temp_for_corr[\"title_status\"].unique()):\n",
    "    df_temp_for_corr.loc[df_temp_for_corr[\"title_status\"] == v, \"title_status\"] = i"
   ]
  },
  {
   "cell_type": "code",
   "execution_count": 30,
   "id": "4ef4b8e1",
   "metadata": {},
   "outputs": [],
   "source": [
    "for i, v in enumerate(df_temp_for_corr[\"transmission\"].unique()):\n",
    "    df_temp_for_corr.loc[df_temp_for_corr[\"transmission\"] == v, \"transmission\"] = i"
   ]
  },
  {
   "cell_type": "code",
   "execution_count": 31,
   "id": "daeda31d",
   "metadata": {},
   "outputs": [],
   "source": [
    "for i, v in enumerate(df_temp_for_corr[\"fuel\"].unique()):\n",
    "    df_temp_for_corr.loc[df_temp_for_corr[\"fuel\"] == v, \"fuel\"] = i"
   ]
  },
  {
   "cell_type": "code",
   "execution_count": 32,
   "id": "689aa3c2",
   "metadata": {},
   "outputs": [],
   "source": [
    "for i, v in enumerate(df_temp_for_corr[\"state\"].unique()):\n",
    "    df_temp_for_corr.loc[df_temp_for_corr[\"state\"] == v, \"state\"] = i"
   ]
  },
  {
   "cell_type": "code",
   "execution_count": 33,
   "id": "2360b7cc",
   "metadata": {},
   "outputs": [],
   "source": [
    "df_temp_for_corr[\"date\"] = pd.to_datetime(df_temp_for_corr[\"date\"], utc=True)"
   ]
  },
  {
   "cell_type": "code",
   "execution_count": 34,
   "id": "a7d6c115",
   "metadata": {},
   "outputs": [],
   "source": [
    "df_temp_for_corr[\"date_timestamp\"] = df_temp_for_corr[\"date\"].astype('int64')"
   ]
  },
  {
   "cell_type": "code",
   "execution_count": 35,
   "id": "12fd1b9a",
   "metadata": {},
   "outputs": [],
   "source": [
    "df_temp_for_corr = df_temp_for_corr.drop([\"date\"], axis=1)"
   ]
  },
  {
   "cell_type": "code",
   "execution_count": 36,
   "id": "62720e9c",
   "metadata": {},
   "outputs": [
    {
     "data": {
      "text/html": [
       "<div>\n",
       "<style scoped>\n",
       "    .dataframe tbody tr th:only-of-type {\n",
       "        vertical-align: middle;\n",
       "    }\n",
       "\n",
       "    .dataframe tbody tr th {\n",
       "        vertical-align: top;\n",
       "    }\n",
       "\n",
       "    .dataframe thead th {\n",
       "        text-align: right;\n",
       "    }\n",
       "</style>\n",
       "<table border=\"1\" class=\"dataframe\">\n",
       "  <thead>\n",
       "    <tr style=\"text-align: right;\">\n",
       "      <th></th>\n",
       "      <th>price</th>\n",
       "      <th>year</th>\n",
       "      <th>fuel</th>\n",
       "      <th>odometer</th>\n",
       "      <th>title_status</th>\n",
       "      <th>transmission</th>\n",
       "      <th>state</th>\n",
       "      <th>price_category</th>\n",
       "      <th>date_timestamp</th>\n",
       "    </tr>\n",
       "  </thead>\n",
       "  <tbody>\n",
       "    <tr>\n",
       "      <th>price</th>\n",
       "      <td>1.000000</td>\n",
       "      <td>0.536574</td>\n",
       "      <td>-0.311739</td>\n",
       "      <td>-0.528649</td>\n",
       "      <td>-0.070951</td>\n",
       "      <td>-0.282418</td>\n",
       "      <td>0.024227</td>\n",
       "      <td>0.877735</td>\n",
       "      <td>-0.092457</td>\n",
       "    </tr>\n",
       "    <tr>\n",
       "      <th>year</th>\n",
       "      <td>0.536574</td>\n",
       "      <td>1.000000</td>\n",
       "      <td>-0.041153</td>\n",
       "      <td>-0.508796</td>\n",
       "      <td>-0.048283</td>\n",
       "      <td>-0.403170</td>\n",
       "      <td>0.023426</td>\n",
       "      <td>0.557379</td>\n",
       "      <td>-0.099020</td>\n",
       "    </tr>\n",
       "    <tr>\n",
       "      <th>fuel</th>\n",
       "      <td>-0.311739</td>\n",
       "      <td>-0.041153</td>\n",
       "      <td>1.000000</td>\n",
       "      <td>-0.044867</td>\n",
       "      <td>0.023861</td>\n",
       "      <td>0.063572</td>\n",
       "      <td>-0.005796</td>\n",
       "      <td>-0.244795</td>\n",
       "      <td>0.044334</td>\n",
       "    </tr>\n",
       "    <tr>\n",
       "      <th>odometer</th>\n",
       "      <td>-0.528649</td>\n",
       "      <td>-0.508796</td>\n",
       "      <td>-0.044867</td>\n",
       "      <td>1.000000</td>\n",
       "      <td>0.022215</td>\n",
       "      <td>0.344918</td>\n",
       "      <td>0.001217</td>\n",
       "      <td>-0.543457</td>\n",
       "      <td>0.047640</td>\n",
       "    </tr>\n",
       "    <tr>\n",
       "      <th>title_status</th>\n",
       "      <td>-0.070951</td>\n",
       "      <td>-0.048283</td>\n",
       "      <td>0.023861</td>\n",
       "      <td>0.022215</td>\n",
       "      <td>1.000000</td>\n",
       "      <td>0.068757</td>\n",
       "      <td>0.001972</td>\n",
       "      <td>-0.073466</td>\n",
       "      <td>0.027188</td>\n",
       "    </tr>\n",
       "    <tr>\n",
       "      <th>transmission</th>\n",
       "      <td>-0.282418</td>\n",
       "      <td>-0.403170</td>\n",
       "      <td>0.063572</td>\n",
       "      <td>0.344918</td>\n",
       "      <td>0.068757</td>\n",
       "      <td>1.000000</td>\n",
       "      <td>-0.025292</td>\n",
       "      <td>-0.331449</td>\n",
       "      <td>0.064153</td>\n",
       "    </tr>\n",
       "    <tr>\n",
       "      <th>state</th>\n",
       "      <td>0.024227</td>\n",
       "      <td>0.023426</td>\n",
       "      <td>-0.005796</td>\n",
       "      <td>0.001217</td>\n",
       "      <td>0.001972</td>\n",
       "      <td>-0.025292</td>\n",
       "      <td>1.000000</td>\n",
       "      <td>0.031820</td>\n",
       "      <td>-0.004497</td>\n",
       "    </tr>\n",
       "    <tr>\n",
       "      <th>price_category</th>\n",
       "      <td>0.877735</td>\n",
       "      <td>0.557379</td>\n",
       "      <td>-0.244795</td>\n",
       "      <td>-0.543457</td>\n",
       "      <td>-0.073466</td>\n",
       "      <td>-0.331449</td>\n",
       "      <td>0.031820</td>\n",
       "      <td>1.000000</td>\n",
       "      <td>-0.082625</td>\n",
       "    </tr>\n",
       "    <tr>\n",
       "      <th>date_timestamp</th>\n",
       "      <td>-0.092457</td>\n",
       "      <td>-0.099020</td>\n",
       "      <td>0.044334</td>\n",
       "      <td>0.047640</td>\n",
       "      <td>0.027188</td>\n",
       "      <td>0.064153</td>\n",
       "      <td>-0.004497</td>\n",
       "      <td>-0.082625</td>\n",
       "      <td>1.000000</td>\n",
       "    </tr>\n",
       "  </tbody>\n",
       "</table>\n",
       "</div>"
      ],
      "text/plain": [
       "                   price      year      fuel  odometer  title_status  \\\n",
       "price           1.000000  0.536574 -0.311739 -0.528649     -0.070951   \n",
       "year            0.536574  1.000000 -0.041153 -0.508796     -0.048283   \n",
       "fuel           -0.311739 -0.041153  1.000000 -0.044867      0.023861   \n",
       "odometer       -0.528649 -0.508796 -0.044867  1.000000      0.022215   \n",
       "title_status   -0.070951 -0.048283  0.023861  0.022215      1.000000   \n",
       "transmission   -0.282418 -0.403170  0.063572  0.344918      0.068757   \n",
       "state           0.024227  0.023426 -0.005796  0.001217      0.001972   \n",
       "price_category  0.877735  0.557379 -0.244795 -0.543457     -0.073466   \n",
       "date_timestamp -0.092457 -0.099020  0.044334  0.047640      0.027188   \n",
       "\n",
       "                transmission     state  price_category  date_timestamp  \n",
       "price              -0.282418  0.024227        0.877735       -0.092457  \n",
       "year               -0.403170  0.023426        0.557379       -0.099020  \n",
       "fuel                0.063572 -0.005796       -0.244795        0.044334  \n",
       "odometer            0.344918  0.001217       -0.543457        0.047640  \n",
       "title_status        0.068757  0.001972       -0.073466        0.027188  \n",
       "transmission        1.000000 -0.025292       -0.331449        0.064153  \n",
       "state              -0.025292  1.000000        0.031820       -0.004497  \n",
       "price_category     -0.331449  0.031820        1.000000       -0.082625  \n",
       "date_timestamp      0.064153 -0.004497       -0.082625        1.000000  "
      ]
     },
     "execution_count": 36,
     "metadata": {},
     "output_type": "execute_result"
    }
   ],
   "source": [
    "df_temp_for_corr.corr()"
   ]
  },
  {
   "cell_type": "code",
   "execution_count": 37,
   "id": "fbdfee67",
   "metadata": {},
   "outputs": [
    {
     "data": {
      "text/plain": [
       "<matplotlib.colorbar.Colorbar at 0x222e5bd43d0>"
      ]
     },
     "execution_count": 37,
     "metadata": {},
     "output_type": "execute_result"
    },
    {
     "data": {
      "image/png": "[encoded data removed]",
      "text/plain": [
       "<Figure size 640x480 with 2 Axes>"
      ]
     },
     "metadata": {},
     "output_type": "display_data"
    }
   ],
   "source": [
    "plt.figure()\n",
    "\n",
    "plt.imshow(df_temp_for_corr.corr())\n",
    "\n",
    "columns = df_temp_for_corr.columns\n",
    "\n",
    "plt.xticks(range(len(columns)), columns, rotation=90)\n",
    "plt.yticks(range(len(columns)), columns)\n",
    "\n",
    "plt.colorbar()"
   ]
  },
  {
   "cell_type": "markdown",
   "id": "a5d6112d",
   "metadata": {},
   "source": [
    "есть зависимость цены и категории цены, что не удивительно\n",
    "\n",
    "слабая прямая корреляция года и цены\n",
    "\n",
    "слабая обратная корреляция пробега с ценой и годом"
   ]
  }
 ],
 "metadata": {
  "kernelspec": {
   "display_name": "data-science-pro-course",
   "language": "python",
   "name": "python3"
  },
  "language_info": {
   "codemirror_mode": {
    "name": "ipython",
    "version": 3
   },
   "file_extension": ".py",
   "mimetype": "text/x-python",
   "name": "python",
   "nbconvert_exporter": "python",
   "pygments_lexer": "ipython3",
   "version": "3.10.18"
  }
 },
 "nbformat": 4,
 "nbformat_minor": 5
}
