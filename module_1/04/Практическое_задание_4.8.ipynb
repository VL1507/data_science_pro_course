{
 "cells": [
  {
   "cell_type": "markdown",
   "id": "883f8e51",
   "metadata": {
    "id": "883f8e51"
   },
   "source": [
    "## Цель практического задания:\n",
    "\n",
    "-   Освоиться в среде Python Notebook.\n",
    "-   Запомнить основные «горячие клавиши».\n",
    "-   Освоить запуск арифметических операций в Python.\n"
   ]
  },
  {
   "cell_type": "markdown",
   "id": "b377a2f4",
   "metadata": {
    "id": "b377a2f4"
   },
   "source": [
    "1. Запустите ячейку под этим текстом и посмотрите, как текст станет форматированным заголовком:\n"
   ]
  },
  {
   "cell_type": "markdown",
   "id": "1dbfca90",
   "metadata": {
    "id": "1dbfca90"
   },
   "source": [
    "# Практика в ноутбуках\n"
   ]
  },
  {
   "cell_type": "markdown",
   "id": "f91ec3a4",
   "metadata": {
    "id": "f91ec3a4"
   },
   "source": [
    "2. Теперь в следующей ячейке напишите свой заголовок и подзаголовок, используя значки # и ##.\n"
   ]
  },
  {
   "cell_type": "markdown",
   "id": "429911a3",
   "metadata": {
    "id": "429911a3"
   },
   "source": [
    "# Заголовок\n",
    "\n",
    "## Подзаголовок\n"
   ]
  },
  {
   "cell_type": "markdown",
   "id": "9e36c171",
   "metadata": {
    "id": "9e36c171"
   },
   "source": [
    "3. Под этой ячейкой создайте свою новую ячейку типа Markdown (тип ячейки можно выбрать в выпадающем меню выше) и напишите там не заголовок, а обычный текст.\n"
   ]
  },
  {
   "cell_type": "markdown",
   "id": "ccf291c4",
   "metadata": {},
   "source": [
    "обычный текст\n"
   ]
  },
  {
   "cell_type": "markdown",
   "id": "599f0764",
   "metadata": {
    "id": "599f0764"
   },
   "source": [
    "4. Кнопкой ESC переведите Jupyter Notebook в командный режим и создайте ниже несколько пустых ячеек, нажав клавишу B (below). Вернитесь в режим редактирования, нажав Enter.\n"
   ]
  },
  {
   "cell_type": "code",
   "execution_count": null,
   "id": "7c585a85",
   "metadata": {},
   "outputs": [],
   "source": []
  },
  {
   "cell_type": "code",
   "execution_count": null,
   "id": "65863eac",
   "metadata": {},
   "outputs": [],
   "source": []
  },
  {
   "cell_type": "code",
   "execution_count": null,
   "id": "479d9a18",
   "metadata": {},
   "outputs": [],
   "source": []
  },
  {
   "cell_type": "code",
   "execution_count": null,
   "id": "98248c18",
   "metadata": {},
   "outputs": [],
   "source": []
  },
  {
   "cell_type": "markdown",
   "id": "5a1cac26",
   "metadata": {
    "id": "5a1cac26"
   },
   "source": [
    "5. Снова войдите в командный режим (синяя рамочка вокруг активной ячейки подскажет вам, что вы в командном режиме) и создайте несколько пустых ячеек над текущей, нажав клавишу A (above). Вернитесь в режим редактирования, нажав Enter.\n"
   ]
  },
  {
   "cell_type": "markdown",
   "id": "2264d065",
   "metadata": {
    "id": "2264d065"
   },
   "source": [
    "6. Войдите в командный режим и удалите ячейки, которые вам кажутся лишними, нажимая дважды клавишу D. После этого возвращайтесь в режим редактирования.\n"
   ]
  },
  {
   "cell_type": "markdown",
   "id": "1827e6ae",
   "metadata": {
    "id": "1827e6ae"
   },
   "source": [
    "7. С помощью сочетания клавиш Shift + Enter запустите ячейку ниже:\n"
   ]
  },
  {
   "cell_type": "code",
   "execution_count": 1,
   "id": "f8c8184e",
   "metadata": {
    "id": "f8c8184e"
   },
   "outputs": [
    {
     "data": {
      "text/plain": [
       "55"
      ]
     },
     "execution_count": 1,
     "metadata": {},
     "output_type": "execute_result"
    }
   ],
   "source": [
    "42 + 13"
   ]
  },
  {
   "cell_type": "markdown",
   "id": "4108748e",
   "metadata": {
    "id": "4108748e"
   },
   "source": [
    "8. Напишите в новых отдельных ячейках с кодом свои выражения с вычитанием, умножением и делением.\n"
   ]
  },
  {
   "cell_type": "code",
   "execution_count": 2,
   "id": "805703b1",
   "metadata": {},
   "outputs": [
    {
     "data": {
      "text/plain": [
       "-1"
      ]
     },
     "execution_count": 2,
     "metadata": {},
     "output_type": "execute_result"
    }
   ],
   "source": [
    "4 - 5"
   ]
  },
  {
   "cell_type": "code",
   "execution_count": 3,
   "id": "7c830489",
   "metadata": {},
   "outputs": [
    {
     "data": {
      "text/plain": [
       "20"
      ]
     },
     "execution_count": 3,
     "metadata": {},
     "output_type": "execute_result"
    }
   ],
   "source": [
    "4 * 5"
   ]
  },
  {
   "cell_type": "code",
   "execution_count": 4,
   "id": "ca949e22",
   "metadata": {},
   "outputs": [
    {
     "data": {
      "text/plain": [
       "0.8"
      ]
     },
     "execution_count": 4,
     "metadata": {},
     "output_type": "execute_result"
    }
   ],
   "source": [
    "4 / 5"
   ]
  },
  {
   "cell_type": "markdown",
   "id": "d56bc380",
   "metadata": {
    "id": "d56bc380"
   },
   "source": [
    "9. Дополните выражение ниже скобками, чтобы на выходе получилось 50:\n"
   ]
  },
  {
   "cell_type": "code",
   "execution_count": 5,
   "id": "d0e932b7",
   "metadata": {
    "id": "d0e932b7",
    "outputId": "7016d15a-c20f-4725-fb64-08538dca0d98"
   },
   "outputs": [
    {
     "data": {
      "text/plain": [
       "50"
      ]
     },
     "execution_count": 5,
     "metadata": {},
     "output_type": "execute_result"
    }
   ],
   "source": [
    "(3 + 2) * (7 + 3)"
   ]
  },
  {
   "cell_type": "markdown",
   "id": "ae849640",
   "metadata": {
    "id": "ae849640"
   },
   "source": [
    "10. Какой знак надо поставить между числами 11 и 5, чтобы в выводе получилось 2?\n"
   ]
  },
  {
   "cell_type": "code",
   "execution_count": 6,
   "id": "f9b995cb",
   "metadata": {
    "id": "f9b995cb",
    "outputId": "ff54795a-849b-4808-c16f-2d05edcff23d"
   },
   "outputs": [
    {
     "data": {
      "text/plain": [
       "2"
      ]
     },
     "execution_count": 6,
     "metadata": {},
     "output_type": "execute_result"
    }
   ],
   "source": [
    "11 // 5"
   ]
  },
  {
   "cell_type": "markdown",
   "id": "b775296e",
   "metadata": {
    "id": "b775296e"
   },
   "source": [
    "11. Что больше: «110 / 50» или «110 % 100»? Можете выполнить оба действия в ячейках и проверить свой ответ.\n"
   ]
  },
  {
   "cell_type": "code",
   "execution_count": 7,
   "id": "77394d4a",
   "metadata": {},
   "outputs": [
    {
     "data": {
      "text/plain": [
       "2.2"
      ]
     },
     "execution_count": 7,
     "metadata": {},
     "output_type": "execute_result"
    }
   ],
   "source": [
    "110 / 50"
   ]
  },
  {
   "cell_type": "code",
   "execution_count": 8,
   "id": "dd36cf67",
   "metadata": {},
   "outputs": [
    {
     "data": {
      "text/plain": [
       "10"
      ]
     },
     "execution_count": 8,
     "metadata": {},
     "output_type": "execute_result"
    }
   ],
   "source": [
    "110 % 100"
   ]
  },
  {
   "cell_type": "markdown",
   "id": "69e42cd2",
   "metadata": {
    "id": "69e42cd2"
   },
   "source": [
    "12. Средний радиус планеты Венеры составляет 6051.8 км. Посчитайте в новой ячейке площадь её поверхности. Формула для площади поверхности шара: $ S = 4πR^2$\n"
   ]
  },
  {
   "cell_type": "code",
   "execution_count": 9,
   "id": "eef86e50",
   "metadata": {},
   "outputs": [
    {
     "data": {
      "text/plain": [
       "460000997.4944"
      ]
     },
     "execution_count": 9,
     "metadata": {},
     "output_type": "execute_result"
    }
   ],
   "source": [
    "R = 6051.8\n",
    "pi = 3.14\n",
    "S = 4 * pi * R**2\n",
    "S"
   ]
  }
 ],
 "metadata": {
  "colab": {
   "collapsed_sections": [],
   "name": "Практическое задание.ipynb",
   "provenance": []
  },
  "kernelspec": {
   "display_name": "data_science_pro_course",
   "language": "python",
   "name": "python3"
  },
  "language_info": {
   "codemirror_mode": {
    "name": "ipython",
    "version": 3
   },
   "file_extension": ".py",
   "mimetype": "text/x-python",
   "name": "python",
   "nbconvert_exporter": "python",
   "pygments_lexer": "ipython3",
   "version": "3.10.8"
  }
 },
 "nbformat": 4,
 "nbformat_minor": 5
}
