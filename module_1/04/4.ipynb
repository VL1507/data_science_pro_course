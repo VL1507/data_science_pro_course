{
 "cells": [
  {
   "cell_type": "markdown",
   "id": "643c03dd",
   "metadata": {},
   "source": [
    "4.10\n"
   ]
  },
  {
   "cell_type": "code",
   "execution_count": 1,
   "id": "2f0d3c4e",
   "metadata": {},
   "outputs": [
    {
     "name": "stdout",
     "output_type": "stream",
     "text": [
      "37.2\n"
     ]
    }
   ],
   "source": [
    "print((23 + 27 + 33 + 41 + 62) / 5)"
   ]
  },
  {
   "cell_type": "markdown",
   "id": "de8bea29",
   "metadata": {},
   "source": [
    "4.11\n"
   ]
  },
  {
   "cell_type": "code",
   "execution_count": 2,
   "id": "63945531",
   "metadata": {},
   "outputs": [
    {
     "name": "stdout",
     "output_type": "stream",
     "text": [
      "4.5\n"
     ]
    }
   ],
   "source": [
    "print(0.15 * 0.15 * 200)"
   ]
  },
  {
   "cell_type": "markdown",
   "id": "856f1e6f",
   "metadata": {},
   "source": [
    "4.12\n"
   ]
  },
  {
   "cell_type": "code",
   "execution_count": 3,
   "id": "ed455e0b",
   "metadata": {},
   "outputs": [
    {
     "name": "stdout",
     "output_type": "stream",
     "text": [
      "71\n",
      "3\n"
     ]
    }
   ],
   "source": [
    "total = 5 * 100\n",
    "print(total // 7)\n",
    "print(total % 7)"
   ]
  },
  {
   "cell_type": "markdown",
   "id": "7eb94bbc",
   "metadata": {},
   "source": [
    "4.13\n"
   ]
  },
  {
   "cell_type": "code",
   "execution_count": 4,
   "id": "74400a8b",
   "metadata": {},
   "outputs": [
    {
     "name": "stdout",
     "output_type": "stream",
     "text": [
      "Ночь, улица, фонарь, аптека\n"
     ]
    }
   ],
   "source": [
    "print(\"Ночь\", \"улица\", \"фонарь\", \"аптека\", sep=\", \")"
   ]
  },
  {
   "cell_type": "markdown",
   "id": "9ba547ba",
   "metadata": {},
   "source": [
    "4.14\n"
   ]
  },
  {
   "cell_type": "code",
   "execution_count": 5,
   "id": "38233009",
   "metadata": {},
   "outputs": [
    {
     "name": "stdout",
     "output_type": "stream",
     "text": [
      "Расход бензина на 100 км = 7.450980392156863\n"
     ]
    }
   ],
   "source": [
    "print(\"Расход бензина на 100 км =\", 19 / 255 * 100)"
   ]
  }
 ],
 "metadata": {
  "kernelspec": {
   "display_name": "data_science_pro_course",
   "language": "python",
   "name": "python3"
  },
  "language_info": {
   "codemirror_mode": {
    "name": "ipython",
    "version": 3
   },
   "file_extension": ".py",
   "mimetype": "text/x-python",
   "name": "python",
   "nbconvert_exporter": "python",
   "pygments_lexer": "ipython3",
   "version": "3.10.8"
  }
 },
 "nbformat": 4,
 "nbformat_minor": 5
}
