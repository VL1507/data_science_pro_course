{
  "cells": [
    {
      "cell_type": "markdown",
      "metadata": {
        "id": "0s7KwzcoPOk1"
      },
      "source": [
        "# Кортежи. Практическая работа\n",
        "\n",
        "В работу входят две обязательные и одна дополнительная задача.\n",
        "\n",
        "_Обязательные задачи_ нужно сделать, чтобы проверить, что вы действительно усвоили пройденный материал. Если у вас всё получилось, вы можете переходить к следующему материалу.\n",
        "\n",
        "_Дополнительные задачи_ для тех, кто чувствует, что нужно ещё немного потренироваться и порешать задачи по программированию.\n",
        "\n",
        "Удачи!\n"
      ]
    },
    {
      "cell_type": "markdown",
      "metadata": {
        "id": "jEr3-vgMPQkS"
      },
      "source": [
        "**Цели практической работы**\n",
        "\n",
        "-   Попрактиковаться работать с типом данных tuple в Python.\n",
        "-   Научиться замерять время исполнения кода.\n"
      ]
    },
    {
      "cell_type": "markdown",
      "metadata": {
        "id": "hDxLPcTpP6Ex"
      },
      "source": [
        "---\n",
        "---\n"
      ]
    },
    {
      "cell_type": "markdown",
      "metadata": {
        "id": "fcPCFolWQHEy"
      },
      "source": [
        "**Обязательные задачи**\n"
      ]
    },
    {
      "cell_type": "markdown",
      "metadata": {
        "id": "KuvacxJ3mUVx"
      },
      "source": [
        "_Задача 1. Площадь прямоугольника_\n",
        "\n",
        "В списке `coords` лежат четыре кортежа, каждый из которых соответствует координатам вершины прямоугольника на координатной плоскости. Напишите функцию, которая находит площадь прямоугольника по его координатам.\n",
        "\n",
        "Обратите внимание: координаты могут находиться в любом порядке. Проверьте работоспособность программы на разных входных значениях списка.\n"
      ]
    },
    {
      "cell_type": "markdown",
      "metadata": {
        "id": "0VGogfghI9NH"
      },
      "source": [
        "Пример:\n",
        "\n",
        "Input: `coords = [(10, 20), (10, 30), (40, 20), (40, 30)]`\n",
        "\n",
        "Output: `300`\n",
        "\n",
        "Input: `coords = [(10, 20), (40, 20), (40, 30),  (10, 30)]`\n",
        "\n",
        "Output: `300`\n"
      ]
    },
    {
      "cell_type": "code",
      "execution_count": 1,
      "metadata": {
        "id": "beXC4tzwmIo3"
      },
      "outputs": [],
      "source": [
        "coords = [(10, 20), (10, 30), (40, 20), (40, 30)]"
      ]
    },
    {
      "cell_type": "code",
      "execution_count": 4,
      "metadata": {
        "id": "OXXUJr0QJKwC"
      },
      "outputs": [],
      "source": [
        "def calc_area(coords: list[tuple[int, int]]) -> int:\n",
        "    start_point = coords[0]\n",
        "\n",
        "    for point in coords[1:]:\n",
        "        if point[0] != start_point[0]:\n",
        "            width = start_point[0] - point[0]\n",
        "        if point[1] != start_point[1]:\n",
        "            height = start_point[1] - point[1]\n",
        "\n",
        "    return abs(width * height)"
      ]
    },
    {
      "cell_type": "code",
      "execution_count": 5,
      "metadata": {},
      "outputs": [
        {
          "data": {
            "text/plain": [
              "300"
            ]
          },
          "execution_count": 5,
          "metadata": {},
          "output_type": "execute_result"
        }
      ],
      "source": [
        "calc_area(coords)"
      ]
    },
    {
      "cell_type": "markdown",
      "metadata": {
        "id": "LpdpNVmzhwac"
      },
      "source": [
        "_Задача 2. Расстановка людей в очереди_\n",
        "\n",
        "Есть три типа билетов, которые хранятся в кортеже `ticket_types`. Также есть список посетителей, которые на данный момент стоят в очереди, типы их билетов хранятся в `user_tickets`.\n",
        "\n",
        "Напишите функцию, которая отсортирует `user_tickets` по очереди, указанной в `ticket_types`. Сначала в `user_tickets` должны оказаться все билеты, которые находятся на нулевом месте в `ticket_types`, потом те, которые на первом месте в `ticket_types`, затем остальные.\n",
        "\n",
        "Проверьте работоспособность программы на разных значениях `ticket_types`, `user_tickets`.\n"
      ]
    },
    {
      "cell_type": "markdown",
      "metadata": {
        "id": "aY5A_BMTlAPb"
      },
      "source": [
        "Пример:\n",
        "\n",
        "Input:\n",
        "\n",
        "`ticket_types = ('Ж', 'К', 'З')`\n",
        "\n",
        "`user_tickets = ['З', 'К', 'К', 'З', 'З', 'З', 'Ж', 'К', 'Ж']`\n",
        "\n",
        "Output:\n",
        "\n",
        "`['Ж', 'Ж', 'К', 'К', 'К', 'З', 'З', 'З', 'З']`\n"
      ]
    },
    {
      "cell_type": "code",
      "execution_count": 7,
      "metadata": {
        "id": "Ig5cDnhrO9i_"
      },
      "outputs": [],
      "source": [
        "ticket_types = (\"Ж\", \"К\", \"З\")\n",
        "user_tickets = [\"З\", \"К\", \"К\", \"З\", \"З\", \"З\", \"Ж\", \"К\", \"Ж\"]"
      ]
    },
    {
      "cell_type": "code",
      "execution_count": 8,
      "metadata": {
        "id": "hmTMM_dOmM39"
      },
      "outputs": [],
      "source": [
        "def sort_tickets_1(ticket_types: tuple[str], user_tickets: list[str]) -> list[str]:\n",
        "    sorted_tickets: list[str] = []\n",
        "\n",
        "    for ticket_type in ticket_types:\n",
        "        for user_ticket in user_tickets:\n",
        "            if ticket_type == user_ticket:\n",
        "                sorted_tickets.append(user_ticket)\n",
        "\n",
        "    return sorted_tickets"
      ]
    },
    {
      "cell_type": "code",
      "execution_count": 9,
      "metadata": {},
      "outputs": [
        {
          "data": {
            "text/plain": [
              "['Ж', 'Ж', 'К', 'К', 'К', 'З', 'З', 'З', 'З']"
            ]
          },
          "execution_count": 9,
          "metadata": {},
          "output_type": "execute_result"
        }
      ],
      "source": [
        "sort_tickets_1(ticket_types, user_tickets)"
      ]
    },
    {
      "cell_type": "markdown",
      "metadata": {
        "id": "9_ykKIaGmzuK"
      },
      "source": [
        "Попробуйте реализовать предыдущую задачу с помощью нового метода `.count()`. Он считает, сколько раз элемент встречается в списке. Например, чтобы найти, сколько раз `Ж` встречается в списке, нужно вызвать: `user_tickets.count('Ж')`.\n",
        "\n",
        "Сравните время выполнения вашего кода и кода c `.count()` c помощью функции `timeit`.\n",
        "\n",
        "P. S. Если вы изначально воспользовались методом `.count()`, сделайте задачу наоборот: попробуйте реализовать решение программы без его использования и также сравнить время выполнения.\n"
      ]
    },
    {
      "cell_type": "code",
      "execution_count": 10,
      "metadata": {
        "id": "FUZhGHoNI0eN"
      },
      "outputs": [],
      "source": [
        "def sort_tickets_2(ticket_types: tuple[str], user_tickets: list[str]) -> list[str]:\n",
        "    sorted_tickets: list[str] = []\n",
        "\n",
        "    for ticket_type in ticket_types:\n",
        "        for _ in range(user_tickets.count(ticket_type)):\n",
        "            sorted_tickets.append(ticket_type)\n",
        "\n",
        "    return sorted_tickets"
      ]
    },
    {
      "cell_type": "code",
      "execution_count": 11,
      "metadata": {},
      "outputs": [
        {
          "data": {
            "text/plain": [
              "['Ж', 'Ж', 'К', 'К', 'К', 'З', 'З', 'З', 'З']"
            ]
          },
          "execution_count": 11,
          "metadata": {},
          "output_type": "execute_result"
        }
      ],
      "source": [
        "sort_tickets_2(ticket_types, user_tickets)"
      ]
    },
    {
      "cell_type": "code",
      "execution_count": 15,
      "metadata": {},
      "outputs": [
        {
          "name": "stdout",
          "output_type": "stream",
          "text": [
            "929 ns ± 18.5 ns per loop (mean ± std. dev. of 7 runs, 1,000,000 loops each)\n"
          ]
        }
      ],
      "source": [
        "%%timeit\n",
        "sort_tickets_1(ticket_types, user_tickets)"
      ]
    },
    {
      "cell_type": "code",
      "execution_count": 16,
      "metadata": {},
      "outputs": [
        {
          "name": "stdout",
          "output_type": "stream",
          "text": [
            "1.02 μs ± 7.3 ns per loop (mean ± std. dev. of 7 runs, 1,000,000 loops each)\n"
          ]
        }
      ],
      "source": [
        "%%timeit\n",
        "sort_tickets_2(ticket_types, user_tickets)"
      ]
    },
    {
      "cell_type": "markdown",
      "metadata": {
        "id": "KlXqFm7fmJPQ"
      },
      "source": [
        "**Дополнительные задачи**\n"
      ]
    },
    {
      "cell_type": "markdown",
      "metadata": {
        "id": "2sPR6oXyaQ9g"
      },
      "source": [
        "_Задача 3. Результаты анализов_\n",
        "\n",
        "Результаты одного из анализов могут принимать четыре значения: здоров, сомнительный результат, в группе риска или болен. Заключение принимается на основе значений порогов, которые хранятся в кортеже `thresholds`.\n",
        "\n",
        "Так, для кортежа со значениями `(2, 10, 15)`:\n",
        "\n",
        "-   если количество бактерий 15 или больше, то человек здоров;\n",
        "-   от десяти включительно до 15 — сомнительный результат;\n",
        "-   от двух включительно до десяти — в группе риска;\n",
        "-   менее двух — болен.\n",
        "\n",
        "В списке `analysis_results` лежат результаты по количеству бактерий в каждом образце за день. Напишите функцию, которая рассчитывает, сколько в списке здоровых и больных людей, сколько сомнительных результатов и сколько человек в группе риска.\n",
        "\n",
        "Проверьте работоспособность программы на разных входных значениях `thresholds, analysis_results`.\n"
      ]
    },
    {
      "cell_type": "markdown",
      "metadata": {
        "id": "RfTxCLGuguNT"
      },
      "source": [
        "Пример:\n",
        "\n",
        "Input:\n",
        "\n",
        "`thresholds = (2, 10, 15)`\n",
        "\n",
        "`analysis_results = [100, 90, 2, 1, 0, 8, 7, 10, 12, 6, 4, 20, 3, 0]`\n",
        "\n",
        "Output:\n",
        "\n",
        "`здоров:3, сомнительный результат:2, в группе риска:6, болен: 3`\n"
      ]
    },
    {
      "cell_type": "code",
      "execution_count": 17,
      "metadata": {
        "id": "q-Wv1kIXfvOA"
      },
      "outputs": [],
      "source": [
        "thresholds = (2, 10, 15)\n",
        "analysis_results = [100, 90, 2, 1, 0, 8, 7, 10, 12, 6, 4, 20, 3, 0]"
      ]
    },
    {
      "cell_type": "code",
      "execution_count": 18,
      "metadata": {
        "id": "2IAZN2-9hadk"
      },
      "outputs": [],
      "source": [
        "def analyze_results(\n",
        "    thresholds: tuple[int, int, int], analysis_results: list[int]\n",
        ") -> None:\n",
        "    res = [0] * 4\n",
        "\n",
        "    for analysis_result in analysis_results:\n",
        "        if analysis_result < thresholds[0]:\n",
        "            res[3] += 1\n",
        "        elif thresholds[0] <= analysis_result < thresholds[1]:\n",
        "            res[2] += 1\n",
        "        elif thresholds[1] <= analysis_result < thresholds[2]:\n",
        "            res[1] += 1\n",
        "        elif thresholds[2] <= analysis_result:\n",
        "            res[0] += 1\n",
        "\n",
        "    print(\n",
        "        f\"здоров:{res[0]}, сомнительный результат:{res[1]}, в группе риска:{res[2]}, болен:{res[3]}\"\n",
        "    )"
      ]
    },
    {
      "cell_type": "code",
      "execution_count": 19,
      "metadata": {
        "id": "52zcazTYmOn5"
      },
      "outputs": [
        {
          "name": "stdout",
          "output_type": "stream",
          "text": [
            "здоров:3, сомнительный результат:2, в группе риска:6, болен:3\n"
          ]
        }
      ],
      "source": [
        "analyze_results(thresholds, analysis_results)"
      ]
    },
    {
      "cell_type": "markdown",
      "metadata": {
        "id": "9nrRBaD2yfkr"
      },
      "source": [
        "---\n",
        "---\n",
        "\n",
        "|\n",
        "\n",
        "|\n",
        "\n",
        "|\n",
        "\n",
        "|\n",
        "\n",
        "|\n",
        "\n",
        "|\n",
        "\n",
        "|\n",
        "\n",
        "|\n",
        "\n",
        "|\n",
        "\n",
        "|\n",
        "\n",
        "|\n",
        "\n",
        "|\n",
        "\n",
        "|\n"
      ]
    },
    {
      "cell_type": "markdown",
      "metadata": {
        "id": "e_femPVIyfks"
      },
      "source": [
        "### Решения\n",
        "\n",
        "**Обязательные задачи**\n"
      ]
    },
    {
      "cell_type": "markdown",
      "metadata": {
        "id": "RCmw_VV0yfkt"
      },
      "source": [
        "_Задача 1. Площадь прямоугольника_\n",
        "\n",
        "В списке `coords` лежат четыре кортежа, каждый из которых соответствует координатам вершины прямоугольника на координатной плоскости. Напишите функцию, которая находит площадь прямоугольника по его координатам.\n",
        "\n",
        "Обратите внимание: координаты могут находиться в любом порядке. Проверьте работоспособность программы на разных входных значениях списка.\n"
      ]
    },
    {
      "cell_type": "markdown",
      "metadata": {
        "id": "iW74UwPByfkt"
      },
      "source": [
        "Пример:\n",
        "\n",
        "Input: `coords = [(10, 20), (10, 30), (40, 20), (40, 30)]`\n",
        "\n",
        "Output: `300`\n",
        "\n",
        "Input: `coords = [(10, 20), (40, 20), (40, 30),  (10, 30)]`\n",
        "\n",
        "Output: `300`\n"
      ]
    },
    {
      "cell_type": "code",
      "execution_count": null,
      "metadata": {
        "colab": {
          "base_uri": "https://localhost:8080/"
        },
        "id": "XL281BiIyfku",
        "outputId": "832efb87-225a-4ebd-833a-500c8d52b37e"
      },
      "outputs": [
        {
          "name": "stdout",
          "output_type": "stream",
          "text": [
            "300\n",
            "300\n",
            "300\n",
            "300\n"
          ]
        }
      ],
      "source": [
        "def count_area(coords):\n",
        "    for point in coords[1:]:\n",
        "        if point[0] != coords[0][0]:\n",
        "            width = coords[0][0] - point[0]\n",
        "        if point[1] != coords[0][1]:\n",
        "            height = coords[0][1] - point[1]\n",
        "\n",
        "    # Чуть ниже вы найдёте примечание по использованию функции abs\n",
        "    return abs(width * height)\n",
        "\n",
        "\n",
        "coords = [(10, 20), (10, 30), (40, 20), (40, 30)]\n",
        "print(count_area(coords))\n",
        "\n",
        "coords = [(10, 20), (40, 20), (40, 30), (10, 30)]\n",
        "print(count_area(coords))\n",
        "\n",
        "coords = [(10, 20), (40, 30), (10, 30), (40, 20)]\n",
        "print(count_area(coords))\n",
        "\n",
        "coords = [(40, 20), (40, 30), (10, 20), (10, 30)]\n",
        "print(count_area(coords))"
      ]
    },
    {
      "cell_type": "markdown",
      "metadata": {
        "id": "PkAGTXok1mHk"
      },
      "source": [
        "### _Примечание_\n",
        "\n",
        "Несложно заметить, что в решении используется функция, которая ранее в курсе не рассматривалась, – **abs**.\n",
        "\n",
        "**abs** – это встроенная в _стандартную библиотеку_ Python функция, возвращающая **модуль** числа (или, как ещё говорят, **абсолютное значение** – оттуда и название функции). Если передать в функцию abs целое число или число с плавающей точкой, то функция вернёт неотрицательное значение и сохранит тип исходного числа.\n",
        "\n",
        "Координаты в списке могут находиться в любом порядке, поэтому при поиске высоты или ширины и, соответственно, вычитании одной координаты из другой мы можем получить отрицательный результат. В таком случае площадь будет отрицательной, чего не может быть. Это и есть причина, по которой мы используем функцию модуля над результатом.\n"
      ]
    },
    {
      "cell_type": "markdown",
      "metadata": {
        "id": "kskRQBv9yfku"
      },
      "source": [
        "_Задача 2. Расстановка людей в очереди_\n",
        "\n",
        "Есть три типа билетов, которые хранятся в кортеже `ticket_types`. Также есть список посетителей, которые на данный момент стоят в очереди, типы их билетов хранятся в `user_tickets`.\n",
        "\n",
        "Напишите функцию, которая отсортирует `user_tickets` по очереди, указанной в `ticket_types`. Сначала в `user_tickets` должны оказаться все билеты, которые находятся на нулевом месте в `ticket_types`, потом те, которые на первом месте в `ticket_types`, затем остальные.\n",
        "\n",
        "Проверьте работоспособность программы на разных значениях `ticket_types`, `user_tickets`.\n"
      ]
    },
    {
      "cell_type": "markdown",
      "metadata": {
        "id": "4hXO9L79yfku"
      },
      "source": [
        "Пример:\n",
        "\n",
        "Input:\n",
        "\n",
        "`ticket_types = ('Ж', 'К', 'З')`\n",
        "\n",
        "`user_tickets = ['З', 'К', 'К', 'З', 'З', 'З', 'Ж', 'К', 'Ж']`\n",
        "\n",
        "Output:\n",
        "\n",
        "`['Ж', 'Ж', 'К', 'К', 'К', 'З', 'З', 'З', 'З']`\n"
      ]
    },
    {
      "cell_type": "code",
      "execution_count": null,
      "metadata": {
        "id": "Cek0DRSgyfku"
      },
      "outputs": [],
      "source": [
        "ticket_types = (\"Ж\", \"К\", \"З\")\n",
        "user_tickets = [\"З\", \"К\", \"К\", \"З\", \"З\", \"З\", \"Ж\", \"К\", \"Ж\"]"
      ]
    },
    {
      "cell_type": "code",
      "execution_count": null,
      "metadata": {
        "id": "99W4-AMuyfku"
      },
      "outputs": [],
      "source": [
        "def sort_queue(user_tickets, ticket_types):\n",
        "    sorted_tickets = []\n",
        "    for ticket in ticket_types:\n",
        "        for user in user_tickets:\n",
        "            if ticket == user:\n",
        "                sorted_tickets.append(ticket)\n",
        "\n",
        "    return sorted_tickets"
      ]
    },
    {
      "cell_type": "code",
      "execution_count": null,
      "metadata": {
        "colab": {
          "base_uri": "https://localhost:8080/"
        },
        "id": "r2g6aCESltcr",
        "outputId": "c083dad3-7387-4c19-b362-80f5d035ec4b"
      },
      "outputs": [
        {
          "data": {
            "text/plain": [
              "['Ж', 'Ж', 'К', 'К', 'К', 'З', 'З', 'З', 'З']"
            ]
          },
          "execution_count": 19,
          "metadata": {},
          "output_type": "execute_result"
        }
      ],
      "source": [
        "sort_queue(user_tickets, ticket_types)"
      ]
    },
    {
      "cell_type": "markdown",
      "metadata": {
        "id": "-CRtzwLXyfkv"
      },
      "source": [
        "Попробуйте реализовать предыдущую задачу с помощью нового метода `.count()`. Он считает, сколько раз элемент встречается в списке. Например, чтобы найти, сколько раз `Ж` встречается в списке, нужно вызвать: `user_tickets.count('Ж')`.\n",
        "\n",
        "Сравните время выполнения вашего кода и кода c `.count()` c помощью функции `timeit`.\n",
        "\n",
        "P. S. Если вы изначально воспользовались методом `.count()`, сделайте задачу наоборот: попробуйте реализовать решение программы без его использования и также сравнить время выполнения.\n"
      ]
    },
    {
      "cell_type": "code",
      "execution_count": null,
      "metadata": {
        "id": "xLz_zlS3yfkv"
      },
      "outputs": [],
      "source": [
        "def sort_queue2(user_tickets, ticket_types):\n",
        "    sorted_tickets = []\n",
        "    for ticket in ticket_types:\n",
        "        sorted_tickets += ticket * user_tickets.count(ticket)\n",
        "\n",
        "    return sorted_tickets"
      ]
    },
    {
      "cell_type": "code",
      "execution_count": null,
      "metadata": {
        "colab": {
          "base_uri": "https://localhost:8080/"
        },
        "id": "b5HxEZy8lwuF",
        "outputId": "7a39f5ef-0fdf-4548-8c61-e7d3957a33d5"
      },
      "outputs": [
        {
          "data": {
            "text/plain": [
              "['Ж', 'Ж', 'К', 'К', 'К', 'З', 'З', 'З', 'З']"
            ]
          },
          "execution_count": 20,
          "metadata": {},
          "output_type": "execute_result"
        }
      ],
      "source": [
        "sort_queue2(user_tickets, ticket_types)"
      ]
    },
    {
      "cell_type": "code",
      "execution_count": null,
      "metadata": {
        "colab": {
          "base_uri": "https://localhost:8080/"
        },
        "id": "E14gGmpjlKVO",
        "outputId": "95d7c698-acc1-48d6-806f-bc741f28da55"
      },
      "outputs": [
        {
          "name": "stdout",
          "output_type": "stream",
          "text": [
            "The slowest run took 6.37 times longer than the fastest. This could mean that an intermediate result is being cached.\n",
            "1000000 loops, best of 5: 1.67 µs per loop\n"
          ]
        }
      ],
      "source": [
        "%%timeit\n",
        "sort_queue2(user_tickets, ticket_types)"
      ]
    },
    {
      "cell_type": "code",
      "execution_count": null,
      "metadata": {
        "colab": {
          "base_uri": "https://localhost:8080/"
        },
        "id": "2DSB_mUzkRJy",
        "outputId": "20d6bfa4-2c2b-4ec0-e404-c9d60be515b7"
      },
      "outputs": [
        {
          "name": "stdout",
          "output_type": "stream",
          "text": [
            "The slowest run took 4.03 times longer than the fastest. This could mean that an intermediate result is being cached.\n",
            "100000 loops, best of 5: 2.19 µs per loop\n"
          ]
        }
      ],
      "source": [
        "%%timeit\n",
        "sort_queue(user_tickets, ticket_types)"
      ]
    },
    {
      "cell_type": "markdown",
      "metadata": {
        "id": "uNOpo27Xyfkv"
      },
      "source": [
        "**Дополнительные задачи**\n"
      ]
    },
    {
      "cell_type": "markdown",
      "metadata": {
        "id": "JGu0__Moyfkv"
      },
      "source": [
        "_Задача 3. Результаты анализов_\n",
        "\n",
        "Результаты одного из анализов могут принимать четыре значения: здоров, сомнительный результат, в группе риска или болен. Заключение принимается на основе значений порогов, которые хранятся в кортеже `thresholds`.\n",
        "\n",
        "Так, для кортежа со значениями `(2, 10, 15)`:\n",
        "\n",
        "-   если количество бактерий 15 или больше, то человек здоров;\n",
        "-   от десяти включительно до 15 — сомнительный результат;\n",
        "-   от двух включительно до десяти — в группе риска;\n",
        "-   менее двух — болен.\n",
        "\n",
        "В списке `analysis_results` лежат результаты по количеству бактерий в каждом образце за день. Напишите функцию, которая рассчитывает, сколько в списке здоровых и больных людей, сколько сомнительных результатов и сколько человек в группе риска.\n",
        "\n",
        "Проверьте работоспособность программы на разных входных значениях `thresholds, analysis_results`.\n"
      ]
    },
    {
      "cell_type": "markdown",
      "metadata": {
        "id": "l5VRUkdZyfkv"
      },
      "source": [
        "Пример:\n",
        "\n",
        "Input:\n",
        "\n",
        "`thresholds = (2, 10, 15)`\n",
        "\n",
        "`analysis_results = [100, 90, 2, 1, 0, 8, 7, 10, 12, 6, 4, 20, 3, 0]`\n",
        "\n",
        "Output:\n",
        "\n",
        "`здоров:3, сомнительный результат:2, в группе риска:6, болен: 3`\n"
      ]
    },
    {
      "cell_type": "code",
      "execution_count": null,
      "metadata": {
        "id": "etKRqzTEyfkw"
      },
      "outputs": [],
      "source": [
        "thresholds = (2, 10, 15)\n",
        "analysis_results = [100, 90, 2, 1, 0, 8, 7, 10, 12, 6, 4, 20, 3, 0]"
      ]
    },
    {
      "cell_type": "code",
      "execution_count": null,
      "metadata": {
        "id": "7z43b7Kxyfkw"
      },
      "outputs": [],
      "source": [
        "def count_stats(analysis_results, thresholds):\n",
        "    healthy, sick, risk, doubtful = 0, 0, 0, 0\n",
        "    for r in analysis_results:\n",
        "        if r >= thresholds[2]:\n",
        "            healthy += 1\n",
        "        elif r >= thresholds[1]:\n",
        "            doubtful += 1\n",
        "        elif r >= thresholds[0]:\n",
        "            risk += 1\n",
        "        else:\n",
        "            sick += 1\n",
        "    print(\n",
        "        f\"здоров: {healthy}, сомнительный результат: {doubtful}, в группе риска: {risk}, болен: {sick}\"\n",
        "    )"
      ]
    },
    {
      "cell_type": "code",
      "execution_count": null,
      "metadata": {
        "colab": {
          "base_uri": "https://localhost:8080/"
        },
        "id": "26bR1Afayfkw",
        "outputId": "01fafa28-8dc1-4fbb-d598-38a260caa936"
      },
      "outputs": [
        {
          "name": "stdout",
          "output_type": "stream",
          "text": [
            "здоров: 3, сомнительный результат: 2, в группе риска: 6, болен: 3\n"
          ]
        }
      ],
      "source": [
        "count_stats(analysis_results, thresholds)"
      ]
    },
    {
      "cell_type": "code",
      "execution_count": null,
      "metadata": {
        "id": "rm0mQ85sn6sz"
      },
      "outputs": [],
      "source": []
    }
  ],
  "metadata": {
    "colab": {
      "provenance": []
    },
    "kernelspec": {
      "display_name": "data_science_pro_course",
      "language": "python",
      "name": "python3"
    },
    "language_info": {
      "codemirror_mode": {
        "name": "ipython",
        "version": 3
      },
      "file_extension": ".py",
      "mimetype": "text/x-python",
      "name": "python",
      "nbconvert_exporter": "python",
      "pygments_lexer": "ipython3",
      "version": "3.10.8"
    }
  },
  "nbformat": 4,
  "nbformat_minor": 0
}
