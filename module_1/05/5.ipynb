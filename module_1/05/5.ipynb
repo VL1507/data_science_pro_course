{
 "cells": [
  {
   "cell_type": "code",
   "execution_count": 19,
   "id": "ba0c7bdd",
   "metadata": {},
   "outputs": [
    {
     "name": "stdout",
     "output_type": "stream",
     "text": [
      "змеи любят греться на солнце \n"
     ]
    }
   ],
   "source": [
    "inf = \"греться \"\n",
    "\n",
    "noun = \"змеи \"\n",
    "\n",
    "obj = \"солнце \"\n",
    "\n",
    "prep = \"на \"\n",
    "\n",
    "verb = \"любят \"\n",
    "\n",
    "print(noun + verb + inf + prep + obj)"
   ]
  },
  {
   "cell_type": "code",
   "execution_count": 20,
   "id": "fb2c2b03",
   "metadata": {},
   "outputs": [
    {
     "name": "stdout",
     "output_type": "stream",
     "text": [
      "33.54838709677419\n"
     ]
    }
   ],
   "source": [
    "distance = 15.5\n",
    "price = 520\n",
    "\n",
    "price_per_kilometer = price / distance\n",
    "\n",
    "print(price_per_kilometer)"
   ]
  },
  {
   "cell_type": "code",
   "execution_count": 21,
   "id": "c4717ee4",
   "metadata": {},
   "outputs": [
    {
     "name": "stdout",
     "output_type": "stream",
     "text": [
      "Переменная age является строкой False\n",
      "Переменная town является строкой True\n",
      "Переменная beautiful является строкой False\n"
     ]
    }
   ],
   "source": [
    "age = 1006\n",
    "town = \"Торжок\"\n",
    "beautiful = True\n",
    "\n",
    "print(\"Переменная age является строкой\", isinstance(age, str))\n",
    "print(\"Переменная town является строкой\", isinstance(town, str))\n",
    "print(\"Переменная beautiful является строкой\", isinstance(beautiful, str))"
   ]
  },
  {
   "cell_type": "code",
   "execution_count": 22,
   "id": "99ba51ca",
   "metadata": {},
   "outputs": [
    {
     "name": "stdout",
     "output_type": "stream",
     "text": [
      "Ваша комната больше 15 квадратных метров?\n",
      "True\n"
     ]
    }
   ],
   "source": [
    "width = float(input(\"Ширина: \"))\n",
    "length = float(input(\"Длина: \"))\n",
    "\n",
    "print(\"Ваша комната больше 15 квадратных метров?\")\n",
    "print((width * length) > 15)"
   ]
  },
  {
   "cell_type": "code",
   "execution_count": 23,
   "id": "726f430d",
   "metadata": {},
   "outputs": [
    {
     "name": "stdout",
     "output_type": "stream",
     "text": [
      "Длина фразы: 3\n"
     ]
    }
   ],
   "source": [
    "print(\"Длина фразы:\", len(input(\"Введите фразу: \")))"
   ]
  },
  {
   "cell_type": "code",
   "execution_count": 24,
   "id": "8b836d23",
   "metadata": {},
   "outputs": [
    {
     "data": {
      "text/plain": [
       "True"
      ]
     },
     "execution_count": 24,
     "metadata": {},
     "output_type": "execute_result"
    }
   ],
   "source": [
    "len(\"Привет\") < 14 or type(\"Привет\") == float"
   ]
  },
  {
   "cell_type": "code",
   "execution_count": 25,
   "id": "9aba602e",
   "metadata": {},
   "outputs": [
    {
     "data": {
      "text/plain": [
       "True"
      ]
     },
     "execution_count": 25,
     "metadata": {},
     "output_type": "execute_result"
    }
   ],
   "source": [
    "not ((int(3.5) != 3) and (3 < 5))"
   ]
  },
  {
   "cell_type": "code",
   "execution_count": 26,
   "id": "6302a82a",
   "metadata": {},
   "outputs": [
    {
     "data": {
      "text/plain": [
       "True"
      ]
     },
     "execution_count": 26,
     "metadata": {},
     "output_type": "execute_result"
    }
   ],
   "source": [
    "not ((int(3.5) != 3) == (3 < 5))"
   ]
  },
  {
   "cell_type": "code",
   "execution_count": 27,
   "id": "99b4595a",
   "metadata": {},
   "outputs": [
    {
     "data": {
      "text/plain": [
       "True"
      ]
     },
     "execution_count": 27,
     "metadata": {},
     "output_type": "execute_result"
    }
   ],
   "source": [
    "not ((int(3.5) != 3) > (3 < 5))"
   ]
  },
  {
   "cell_type": "code",
   "execution_count": 28,
   "id": "5289ecd2",
   "metadata": {},
   "outputs": [
    {
     "data": {
      "text/plain": [
       "True"
      ]
     },
     "execution_count": 28,
     "metadata": {},
     "output_type": "execute_result"
    }
   ],
   "source": [
    "not ((int(3.5) != 3) >= (3 < 5))"
   ]
  },
  {
   "cell_type": "code",
   "execution_count": 29,
   "id": "7f2b4901",
   "metadata": {},
   "outputs": [
    {
     "data": {
      "text/plain": [
       "True"
      ]
     },
     "execution_count": 29,
     "metadata": {},
     "output_type": "execute_result"
    }
   ],
   "source": [
    "True * 5 == 5"
   ]
  },
  {
   "cell_type": "code",
   "execution_count": 30,
   "id": "e41f9927",
   "metadata": {},
   "outputs": [
    {
     "data": {
      "text/plain": [
       "True"
      ]
     },
     "execution_count": 30,
     "metadata": {},
     "output_type": "execute_result"
    }
   ],
   "source": [
    "True * 5 >= 5"
   ]
  },
  {
   "cell_type": "code",
   "execution_count": 31,
   "id": "9016eae1",
   "metadata": {},
   "outputs": [
    {
     "data": {
      "text/plain": [
       "True"
      ]
     },
     "execution_count": 31,
     "metadata": {},
     "output_type": "execute_result"
    }
   ],
   "source": [
    "True * 5 <= 5"
   ]
  },
  {
   "cell_type": "code",
   "execution_count": 32,
   "id": "a0615241",
   "metadata": {},
   "outputs": [
    {
     "data": {
      "text/plain": [
       "True"
      ]
     },
     "execution_count": 32,
     "metadata": {},
     "output_type": "execute_result"
    }
   ],
   "source": [
    "float(35) != 77.0"
   ]
  },
  {
   "cell_type": "code",
   "execution_count": 33,
   "id": "6f5a3517",
   "metadata": {},
   "outputs": [
    {
     "data": {
      "text/plain": [
       "True"
      ]
     },
     "execution_count": 33,
     "metadata": {},
     "output_type": "execute_result"
    }
   ],
   "source": [
    "float(35) < 77.0"
   ]
  },
  {
   "cell_type": "code",
   "execution_count": 34,
   "id": "a29b7985",
   "metadata": {},
   "outputs": [
    {
     "data": {
      "text/plain": [
       "True"
      ]
     },
     "execution_count": 34,
     "metadata": {},
     "output_type": "execute_result"
    }
   ],
   "source": [
    "float(35) <= 77.0"
   ]
  },
  {
   "cell_type": "code",
   "execution_count": 35,
   "id": "6c75ae0f",
   "metadata": {},
   "outputs": [
    {
     "data": {
      "text/plain": [
       "True"
      ]
     },
     "execution_count": 35,
     "metadata": {},
     "output_type": "execute_result"
    }
   ],
   "source": [
    "77 // 2 == 38 and not False"
   ]
  }
 ],
 "metadata": {
  "kernelspec": {
   "display_name": "data_science_pro_course",
   "language": "python",
   "name": "python3"
  },
  "language_info": {
   "codemirror_mode": {
    "name": "ipython",
    "version": 3
   },
   "file_extension": ".py",
   "mimetype": "text/x-python",
   "name": "python",
   "nbconvert_exporter": "python",
   "pygments_lexer": "ipython3",
   "version": "3.10.8"
  }
 },
 "nbformat": 4,
 "nbformat_minor": 5
}
