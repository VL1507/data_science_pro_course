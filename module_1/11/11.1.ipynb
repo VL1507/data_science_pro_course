{
 "cells": [
  {
   "cell_type": "code",
   "execution_count": 1,
   "id": "5f852767",
   "metadata": {},
   "outputs": [
    {
     "name": "stdout",
     "output_type": "stream",
     "text": [
      "1198\n"
     ]
    }
   ],
   "source": [
    "unique_words: set[str] = set()\n",
    "\n",
    "with open(\"./anna_words.txt\", \"r\", encoding=\"UTF-8\") as f:\n",
    "    for word in f.readlines():\n",
    "        unique_words.add(word.strip())\n",
    "\n",
    "print(len(unique_words))"
   ]
  }
 ],
 "metadata": {
  "kernelspec": {
   "display_name": "data_science_pro_course",
   "language": "python",
   "name": "python3"
  },
  "language_info": {
   "codemirror_mode": {
    "name": "ipython",
    "version": 3
   },
   "file_extension": ".py",
   "mimetype": "text/x-python",
   "name": "python",
   "nbconvert_exporter": "python",
   "pygments_lexer": "ipython3",
   "version": "3.10.8"
  }
 },
 "nbformat": 4,
 "nbformat_minor": 5
}
