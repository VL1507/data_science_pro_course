{
  "cells": [
    {
      "cell_type": "markdown",
      "id": "194ee24b-50d1-4175-b37e-2e3f7e762269",
      "metadata": {
        "id": "194ee24b-50d1-4175-b37e-2e3f7e762269"
      },
      "source": [
        "# Чтение файлов в Python и командной строке. Практическая работа\n",
        "\n",
        "### Цели практической работы\n",
        "\n",
        "1. Научиться считывать информацию из файлов и совершать над ней операции с помощью кода на Python и командной строки.\n",
        "2. Закрепить навыки стыковки команд в конвейеры и установки внешних пакетов с помощью пакетного менеджера pip.\n",
        "\n",
        "### Что входит в практическую работу\n",
        "\n",
        "1. Работа с файлами в командной строке.\n",
        "2. Работа с файлами в Python 1.\n",
        "3. Работа с файлами в Python 2.\n",
        "4. Импортирование модулей.\n",
        "5. Установка внешних модулей через pip.\n",
        "6. Бонусное задание.\n",
        "\n",
        "### Что оценивается\n",
        "\n",
        "-   Выполнены пять обязательных заданий, в каждом из них:\n",
        "-   программа выполняет все описанные в задании действия;\n",
        "-   результаты вычислений и применённых операций корректны;\n",
        "-   стилизация кода соответствует рекомендациям [PEP 8](https://pythonworld.ru/osnovy/pep-8-rukovodstvo-po-napisaniyu-koda-na-python.html).\n",
        "\n",
        "### Как отправить работу на проверку\n",
        "\n",
        "Все задания собраны в один Jupyter Notebook. Выполните их, сохраните изменения при помощи опции Save and Checkpoint из вкладки меню File или кнопки Save and Checkpoint на панели инструментов. Отправьте итоговый файл Jupyter Notebook в формате IPYNB или ссылку на него через форму для сдачи практической работы.\n",
        "\n",
        "---\n"
      ]
    },
    {
      "cell_type": "markdown",
      "id": "a44f6df4",
      "metadata": {
        "id": "a44f6df4"
      },
      "source": [
        "## Задание 1. Работа с файлами в командной строке\n",
        "\n",
        "Ранее вы считали количество всех слов в рассказе А. П. Чехова «Анна на шее». Теперь необходимо определить, сколько раз каждое слово встречается в тексте.\n",
        "\n",
        "Вы уже знаете команды sort и uniq, умеете с их помощью считать количество уникальных строк в построчном файле. В результате у вас должен был получиться такой конвейер команд: `cat anna_words.txt | sort | uniq | wc -l`.\n",
        "\n",
        "Команда cat перенаправляет слова из файла в команду sort, которая сортирует слова и передаёт упорядоченный список в команду uniq. Последняя удаляет дубликаты и направляет список уникальных слов в команду wc −l, которая их считает.\n",
        "\n",
        "### Что нужно сделать\n",
        "\n",
        "Посчитайте количество уникальных слов и определите частоту встречаемости каждого слова. Информацию в виде `частота слово` сохраните в текстовый файл. Для этого:\n",
        "\n",
        "1. Измените конвейер команд так, чтобы он выводил слова и их частоту встречаемости на экран.\n",
        "2. Перенаправьте вывод конвейера в текстовый файл `words_freq.txt`.\n",
        "\n",
        "Если всё сделаете правильно, то получится текстовый файл `words_freq.txt`, в котором будут слова и их частота в виде:\n",
        "\n",
        "```\n",
        "...\n",
        "   1 по-прежнему\n",
        "   2 по-французски\n",
        "  40 аня\n",
        "   6 бал\n",
        "   1 бог\n",
        "   2 ваш\n",
        "   2 вид\n",
        "...\n",
        "```\n",
        "\n",
        "3. Скопируйте конвейер команд в ячейку, которая расположена непосредственно под этой.\n",
        "\n",
        "### Подсказки\n",
        "\n",
        "1. Ознакомьтесь с документацией команды uniq, обратите внимание на её ключ `-с`. Официальную документацию можно почитать прямо в командной строке: для этого выполните команду `man uniq`. Команда `man` (от англ. manual) выводит справку для команды, которая передаётся в man как аргумент. Если читать текст в терминале непривычно, то можете поискать информацию в интернете.\n",
        "\n",
        "2. Перенаправить вывод команды в bash можно с помощью символа `>`. О том, как это сделать, читайте в интернете. Например, в статье [**«Перенаправление ввода вывода Linux»**](https://losst.ru/perenapravlenie-vvoda-vyvoda-linux).\n"
      ]
    },
    {
      "cell_type": "markdown",
      "id": "ac416392",
      "metadata": {
        "id": "ac416392"
      },
      "source": [
        "### Вставьте конвейер команд, который у вас получился\n"
      ]
    },
    {
      "cell_type": "raw",
      "id": "35aa50c3-7d4e-4667-8157-da4ad8761cdd",
      "metadata": {
        "id": "35aa50c3-7d4e-4667-8157-da4ad8761cdd",
        "vscode": {
          "languageId": "raw"
        }
      },
      "source": [
        "##\n",
        "## Вставьте конвейер команд сюда.\n",
        "##\n",
        "\n",
        "cat anna_words.txt | sort | uniq -c > words_freq.txt\n"
      ]
    },
    {
      "cell_type": "markdown",
      "id": "3952c1a6",
      "metadata": {
        "id": "3952c1a6"
      },
      "source": [
        "---\n",
        "\n",
        "## Задание 2. Работа с файлами в Python 1\n",
        "\n",
        "### Что нужно сделать\n",
        "\n",
        "В рассказе А. П. Чехова «Анна на шее» найдите десять слов, которые встречаются чаще всего.\n",
        "\n",
        "1. Напишите код на Python, который читает файл `word_freq.txt` по строкам, преобразует каждую из них в кортеж `(частота, слово)` и складывает полученные кортежи в список.\n",
        "2. Отсортируйте список по частотам, выведите на экран десять самых популярных слов и их частоты.\n",
        "\n",
        "### Подсказки\n",
        "\n",
        "1. Обратите внимание, что строки в файле содержат «лишние» символы: пробелы в начале и символ перевода строки в конце. Работать будет удобнее, если предварительно удалить их. Сделать это можно с помощью метода `strip`. Ознакомьтесь с ним подробнее в [**официальной документации**](https://docs.python.org/3/library/stdtypes.html?highlight=strip#str.strip).\n",
        "\n",
        "2. Сейчас частота и слово — это одна строка, в которой они разделены пробелом. Их можно разделить с помощью метода [**`split`**](https://docs.python.org/3/library/stdtypes.html?highlight=split#str.split).\n",
        "\n",
        "3. Для сортировки в Python есть функция `sorted`. Она принимает на вход итерируемый объект, сравнивает его элементы между собой и возвращает итерируемый объект, который отсортирован. По умолчанию функция размещает элементы в порядке возрастания. Например, `sorted([2, 4, 1, 0])` вернёт `[0, 1, 2, 4]`. Подробнее про работу функции можно почитать в [**официальной документации**](https://docs.python.org/3/library/functions.html?highlight=sorted#sorted)\n"
      ]
    },
    {
      "cell_type": "code",
      "execution_count": 6,
      "id": "c98e4d0b",
      "metadata": {
        "id": "c98e4d0b"
      },
      "outputs": [
        {
          "name": "stdout",
          "output_type": "stream",
          "text": [
            "40 аня\n",
            "28 свой\n",
            "19 говорить\n",
            "17 это\n",
            "17 сказать\n",
            "17 модест\n",
            "17 который\n",
            "17 алексеич\n",
            "16 человек\n",
            "16 рука\n"
          ]
        }
      ],
      "source": [
        "word_freq: list[tuple[int, str]] = []\n",
        "\n",
        "with open(\"./words_freq.txt\", encoding=\"utf-8\") as f:\n",
        "    for line in f:\n",
        "        line = line.strip()\n",
        "        pair = line.split()\n",
        "        word_freq.append((int(pair[0]), pair[1]))\n",
        "\n",
        "word_freq = sorted(word_freq, reverse=True)\n",
        "\n",
        "for freq, word in word_freq[:10]:\n",
        "    print(freq, word)"
      ]
    },
    {
      "cell_type": "markdown",
      "id": "8639569c",
      "metadata": {
        "id": "8639569c"
      },
      "source": [
        "---\n",
        "\n",
        "## Задание 3. Работа с файлами в Python 2\n",
        "\n",
        "### Что нужно сделать\n",
        "\n",
        "Найдите букву, с которой чаще всего начинаются слова в рассказе А. П. Чехова «Анна на шее».\n",
        "\n",
        "1. Используйте файл с частотами слов `words_freq.txt`.\n",
        "2. Напишите код в Python, который выводит на экран самую популярную первую букву и количество слов на неё.\n",
        "\n",
        "### Подсказки\n",
        "\n",
        "Скорее всего, вы будете искать в словаре ключ с максимальным значением. Чтобы упростить работу, отсортируйте словарь. Сортировать словарь по значениям сложнее, чем список объектов, которые можно сравнивать непосредственно. Обратите внимание на параметр key функции [**sorted**](https://docs.python.org/3/library/functions.html?highlight=sorted#sorted).\n"
      ]
    },
    {
      "cell_type": "code",
      "execution_count": 12,
      "id": "6da9050c",
      "metadata": {
        "id": "6da9050c"
      },
      "outputs": [
        {
          "name": "stdout",
          "output_type": "stream",
          "text": [
            "('п', 196)\n"
          ]
        }
      ],
      "source": [
        "first_letter_freq: dict[str, int] = {}\n",
        "\n",
        "\n",
        "with open(\"./words_freq.txt\", encoding=\"utf-8\") as f:\n",
        "    for line in f:\n",
        "        line = line.strip()\n",
        "        pair = line.split()\n",
        "        first_letter = pair[1][0]\n",
        "\n",
        "        if first_letter in first_letter_freq:\n",
        "            first_letter_freq[first_letter] += 1\n",
        "        else:\n",
        "            first_letter_freq[first_letter] = 1\n",
        "\n",
        "print(sorted(first_letter_freq.items(), key=lambda x: -x[1])[0])"
      ]
    },
    {
      "cell_type": "markdown",
      "id": "b94a18e9",
      "metadata": {
        "id": "b94a18e9"
      },
      "source": [
        "---\n",
        "\n",
        "## Задание 4. Импортирование модулей\n",
        "\n",
        "###Что нужно сделать\n",
        "Напишите функцию `circ_sqrt`. Она должна принимать один параметр `r` типа `float` и возвращать квадратный корень из длины окружности радиуса `r`.\n",
        "\n",
        "### Подсказки\n",
        "\n",
        "-   Используйте функции встроенного модуля math.\n",
        "-   В работе функции учтите область определения квадратного корня.\n"
      ]
    },
    {
      "cell_type": "code",
      "execution_count": 15,
      "id": "7f51225d",
      "metadata": {},
      "outputs": [],
      "source": [
        "from math import pi, sqrt\n",
        "\n",
        "\n",
        "def circ_sqrt(r: float) -> float:\n",
        "    if r < 0:\n",
        "        raise ValueError(f\"{r = }, а должно быть больше или равно 0\")\n",
        "\n",
        "    return sqrt(2 * pi * r)\n"
      ]
    },
    {
      "cell_type": "code",
      "execution_count": 16,
      "id": "271ff819",
      "metadata": {},
      "outputs": [
        {
          "data": {
            "text/plain": [
              "5.0132565492620005"
            ]
          },
          "execution_count": 16,
          "metadata": {},
          "output_type": "execute_result"
        }
      ],
      "source": [
        "circ_sqrt(4)"
      ]
    },
    {
      "cell_type": "code",
      "execution_count": 17,
      "id": "1ab38102",
      "metadata": {},
      "outputs": [
        {
          "ename": "ValueError",
          "evalue": "r = -4, а должно быть больше или равно 0",
          "output_type": "error",
          "traceback": [
            "\u001b[1;31m---------------------------------------------------------------------------\u001b[0m",
            "\u001b[1;31mValueError\u001b[0m                                Traceback (most recent call last)",
            "Cell \u001b[1;32mIn[17], line 1\u001b[0m\n\u001b[1;32m----> 1\u001b[0m \u001b[43mcirc_sqrt\u001b[49m\u001b[43m(\u001b[49m\u001b[38;5;241;43m-\u001b[39;49m\u001b[38;5;241;43m4\u001b[39;49m\u001b[43m)\u001b[49m\n",
            "Cell \u001b[1;32mIn[15], line 6\u001b[0m, in \u001b[0;36mcirc_sqrt\u001b[1;34m(r)\u001b[0m\n\u001b[0;32m      4\u001b[0m \u001b[38;5;28;01mdef\u001b[39;00m\u001b[38;5;250m \u001b[39m\u001b[38;5;21mcirc_sqrt\u001b[39m(r: \u001b[38;5;28mfloat\u001b[39m) \u001b[38;5;241m-\u001b[39m\u001b[38;5;241m>\u001b[39m \u001b[38;5;28mfloat\u001b[39m:\n\u001b[0;32m      5\u001b[0m     \u001b[38;5;28;01mif\u001b[39;00m r \u001b[38;5;241m<\u001b[39m \u001b[38;5;241m0\u001b[39m:\n\u001b[1;32m----> 6\u001b[0m         \u001b[38;5;28;01mraise\u001b[39;00m \u001b[38;5;167;01mValueError\u001b[39;00m(\u001b[38;5;124mf\u001b[39m\u001b[38;5;124m\"\u001b[39m\u001b[38;5;132;01m{\u001b[39;00mr\u001b[38;5;250m \u001b[39m\u001b[38;5;132;01m= }\u001b[39;00m\u001b[38;5;124m, а должно быть больше или равно 0\u001b[39m\u001b[38;5;124m\"\u001b[39m)\n\u001b[0;32m      8\u001b[0m     \u001b[38;5;28;01mreturn\u001b[39;00m sqrt(\u001b[38;5;241m2\u001b[39m \u001b[38;5;241m*\u001b[39m pi \u001b[38;5;241m*\u001b[39m r)\n",
            "\u001b[1;31mValueError\u001b[0m: r = -4, а должно быть больше или равно 0"
          ]
        }
      ],
      "source": [
        "circ_sqrt(-4)"
      ]
    },
    {
      "cell_type": "markdown",
      "id": "73df457b",
      "metadata": {
        "id": "73df457b"
      },
      "source": [
        "---\n",
        "\n",
        "## Задание 5. Установка внешних модулей через pip\n",
        "\n",
        "### Что нужно сделать\n",
        "\n",
        "Установите пакеты из PyPi с помощью пакетного менеджера pip и используйте их в коде.\n",
        "\n",
        "1. Установите пакет `cowsay`.\n",
        "2. Установите в систему пакет `wikipedia` — Python API для очень популярной онлайн-энциклопедии.\n",
        "3. Напишите функцию `random_article`, которая выводит на экран очень умную корову. Корова должна «рассказывать» краткое содержание случайной статьи из «Википедии» на английском языке.\n",
        "\n",
        "### Подсказки\n",
        "\n",
        "Вам понадобятся следующие функции пакета `wikipedia`:\n",
        "\n",
        "-   [**wikipedia.random**](https://wikipedia.readthedocs.io/en/latest/code.html#wikipedia.random)\n",
        "-   [**wikipedia.summary**](https://wikipedia.readthedocs.io/en/latest/code.html#wikipedia.summary)\n"
      ]
    },
    {
      "cell_type": "code",
      "execution_count": 7,
      "id": "e29bca23",
      "metadata": {},
      "outputs": [],
      "source": [
        "from cowsay import cow\n",
        "from wikipedia import random, summary\n"
      ]
    },
    {
      "cell_type": "code",
      "execution_count": 8,
      "id": "b82d0553",
      "metadata": {},
      "outputs": [],
      "source": [
        "def random_article() -> None:\n",
        "    print(cow(summary(random())))"
      ]
    },
    {
      "cell_type": "code",
      "execution_count": 9,
      "id": "06ff3ed5",
      "metadata": {},
      "outputs": [
        {
          "name": "stdout",
          "output_type": "stream",
          "text": [
            "  _________________________________________________\n",
            " /                                                 \\\n",
            "| The Huolongjing (traditional Chinese: 火龍經; simpli |\n",
            "| fied Chinese: 火龙经; pinyin: Huǒ Lóng Jīng; Wade-Gi |\n",
            "| les: Huo Lung Ching; rendered in English as Fire  |\n",
            "| Drake Manual or Fire Dragon Manual), also known a |\n",
            "| s Huoqitu (“Firearm Illustrations”), is a Chinese |\n",
            "|  military treatise compiled and edited by Jiao Yu |\n",
            "|  and Liu Bowen of the early Ming dynasty (1368–16 |\n",
            "| 83) during the 14th century. The Huolongjing is p |\n",
            "| rimarily based on the text known as Huolong Shenq |\n",
            "| i Tufa (Illustrations of Divine Fire Dragon Engin |\n",
            "| es), which no longer exists.                      |\n",
            " \\                                                 /\n",
            "  =================================================\n",
            "                                                 \\\n",
            "                                                  \\\n",
            "                                                    ^__^\n",
            "                                                    (oo)\\_______\n",
            "                                                    (__)\\       )\\/\\\n",
            "                                                        ||----w |\n",
            "                                                        ||     ||\n",
            "None\n"
          ]
        }
      ],
      "source": [
        "random_article()"
      ]
    },
    {
      "cell_type": "markdown",
      "id": "af263b7d",
      "metadata": {
        "id": "af263b7d"
      },
      "source": [
        "---\n",
        "\n",
        "## Задание 6. Бонусное\n",
        "\n",
        "### Что нужно сделать\n",
        "\n",
        "Выясните, как слова в рассказе «Анна на шее» распределяются по длине.\n",
        "\n",
        "1. Посчитайте, сколько слов длины 1, 2 и так далее в файле anna_words.txt.\n",
        "\n",
        "2. Выведите на экран информацию в формате `длина количество_слов`, отсортируйте её по возрастанию длины.\n",
        "\n",
        "3. Перенесите вывод программы в Excel или Google Таблицы и постройте столбчатую диаграмму.\n",
        "\n",
        "4. Сравните ваш график с [распределением русских слов по длине](http://nskhuman.ru/unislov/statist.php?nstat=21). В гистограмме по ссылке больше данных, поэтому она лучше показывает соотношение длины слов и их количества в русском языке.\n",
        "\n",
        "### Советы и рекомендации\n",
        "\n",
        "Вероятнее всего, вы снова будете использовать словарь. Ключами в нём будет длина слов, а значениями — количество слов этой длины. Обратите внимание, что словарь нужно сортировать по ключам, а не по значениям, как вы делали ранее.\n"
      ]
    },
    {
      "cell_type": "code",
      "execution_count": 21,
      "id": "31cd934a",
      "metadata": {
        "id": "31cd934a"
      },
      "outputs": [
        {
          "name": "stdout",
          "output_type": "stream",
          "text": [
            "1 4\n",
            "2 9\n",
            "3 33\n",
            "4 95\n",
            "5 145\n",
            "6 177\n",
            "7 203\n",
            "8 162\n",
            "9 125\n",
            "10 94\n",
            "11 76\n",
            "12 38\n",
            "13 20\n",
            "14 9\n",
            "15 4\n",
            "16 1\n",
            "17 1\n",
            "18 2\n"
          ]
        }
      ],
      "source": [
        "word_length_freq: dict[int, int] = {}\n",
        "\n",
        "with open(\"./words_freq.txt\", encoding=\"utf-8\") as f:\n",
        "    for line in f:\n",
        "        line = line.strip()\n",
        "        pair = line.split()\n",
        "        word_length = len(pair[1])\n",
        "\n",
        "        if word_length in word_length_freq:\n",
        "            word_length_freq[word_length] += 1\n",
        "        else:\n",
        "            word_length_freq[word_length] = 1\n",
        "\n",
        "word_length_freq_list = sorted(word_length_freq.items(), key=lambda x: x[0])\n",
        "\n",
        "for word_length, freq in word_length_freq_list:\n",
        "    print(word_length, freq)"
      ]
    }
  ],
  "metadata": {
    "colab": {
      "collapsed_sections": [],
      "provenance": []
    },
    "kernelspec": {
      "display_name": "data_science_pro_course",
      "language": "python",
      "name": "python3"
    },
    "language_info": {
      "codemirror_mode": {
        "name": "ipython",
        "version": 3
      },
      "file_extension": ".py",
      "mimetype": "text/x-python",
      "name": "python",
      "nbconvert_exporter": "python",
      "pygments_lexer": "ipython3",
      "version": "3.10.8"
    }
  },
  "nbformat": 4,
  "nbformat_minor": 5
}
