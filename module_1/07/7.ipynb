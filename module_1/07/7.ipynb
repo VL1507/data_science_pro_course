{
 "cells": [
  {
   "cell_type": "code",
   "execution_count": 2,
   "id": "50ed1b93",
   "metadata": {},
   "outputs": [
    {
     "name": "stdout",
     "output_type": "stream",
     "text": [
      "2020\n",
      "2024\n",
      "2028\n",
      "2032\n",
      "2036\n",
      "2040\n",
      "2044\n",
      "2048\n"
     ]
    }
   ],
   "source": [
    "for year in range(2020, 2050):\n",
    "    if (year % 400 == 0) or ((year % 4 == 0) and (year % 100 != 0)):\n",
    "        print(year)"
   ]
  },
  {
   "cell_type": "code",
   "execution_count": 4,
   "id": "7387dad8",
   "metadata": {},
   "outputs": [
    {
     "name": "stdout",
     "output_type": "stream",
     "text": [
      "170222.29347072003\n"
     ]
    }
   ],
   "source": [
    "credit = 120_000\n",
    "interest = 1.06\n",
    "\n",
    "for _ in range(6):\n",
    "    credit *= interest\n",
    "\n",
    "print(credit)"
   ]
  },
  {
   "cell_type": "code",
   "execution_count": 5,
   "id": "530cf5f9",
   "metadata": {},
   "outputs": [
    {
     "name": "stdout",
     "output_type": "stream",
     "text": [
      "0\n",
      "2\n",
      "4\n",
      "6\n",
      "8\n",
      "10\n",
      "12\n",
      "14\n",
      "16\n",
      "18\n",
      "20\n",
      "22\n",
      "24\n",
      "26\n",
      "28\n",
      "30\n"
     ]
    }
   ],
   "source": [
    "for number in range(31):\n",
    "    if number % 2 == 0:\n",
    "        print(number)"
   ]
  },
  {
   "cell_type": "code",
   "execution_count": 6,
   "id": "f1a247e6",
   "metadata": {},
   "outputs": [
    {
     "name": "stdout",
     "output_type": "stream",
     "text": [
      "1 1\n",
      "2 2\n",
      "3 4\n",
      "4 8\n",
      "5 16\n",
      "6 32\n",
      "7 64\n",
      "8 128\n",
      "9 256\n",
      "10 512\n",
      "11 1024\n",
      "12 2048\n",
      "13 4096\n",
      "14 8192\n",
      "15 16384\n",
      "16 32768\n",
      "17 65536\n"
     ]
    }
   ],
   "source": [
    "i, count = 1, 1\n",
    "while count < 100_000:\n",
    "    print(i, count)\n",
    "    i += 1\n",
    "    count *= 2"
   ]
  }
 ],
 "metadata": {
  "kernelspec": {
   "display_name": "data_science_pro_course",
   "language": "python",
   "name": "python3"
  },
  "language_info": {
   "codemirror_mode": {
    "name": "ipython",
    "version": 3
   },
   "file_extension": ".py",
   "mimetype": "text/x-python",
   "name": "python",
   "nbconvert_exporter": "python",
   "pygments_lexer": "ipython3",
   "version": "3.10.8"
  }
 },
 "nbformat": 4,
 "nbformat_minor": 5
}
