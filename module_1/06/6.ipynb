{
 "cells": [
  {
   "cell_type": "code",
   "execution_count": 1,
   "id": "4bca8ea0",
   "metadata": {},
   "outputs": [
    {
     "name": "stdout",
     "output_type": "stream",
     "text": [
      "Это число чётное\n"
     ]
    }
   ],
   "source": [
    "number = 100\n",
    "\n",
    "if number % 2 == 0:\n",
    "    print(\"Это число чётное\")\n",
    "else:\n",
    "    print(\"Это число нечётное\")"
   ]
  },
  {
   "cell_type": "code",
   "execution_count": 2,
   "id": "e2a8f86c",
   "metadata": {},
   "outputs": [
    {
     "name": "stdout",
     "output_type": "stream",
     "text": [
      "5\n"
     ]
    }
   ],
   "source": [
    "number = 5\n",
    "\n",
    "if number**2 >= 100:\n",
    "    print(\"Число двузначное\")\n",
    "\n",
    "    if number > 0:\n",
    "        print(\"Число положительное\")\n",
    "    else:\n",
    "        print(\"Число отрицательное\")\n",
    "\n",
    "else:\n",
    "    print(number)"
   ]
  },
  {
   "cell_type": "code",
   "execution_count": 3,
   "id": "f0751d32",
   "metadata": {},
   "outputs": [
    {
     "name": "stdout",
     "output_type": "stream",
     "text": [
      "5\n"
     ]
    }
   ],
   "source": [
    "word = 5\n",
    "\n",
    "if word:\n",
    "    print(word)\n",
    "else:\n",
    "    print(\"Вы ничего не ввели\")"
   ]
  },
  {
   "cell_type": "code",
   "execution_count": 4,
   "id": "c80c8298",
   "metadata": {},
   "outputs": [
    {
     "name": "stdout",
     "output_type": "stream",
     "text": [
      "Квадрат введенного числа равен 1764\n"
     ]
    }
   ],
   "source": [
    "number = 42\n",
    "if number > 5:\n",
    "    square = number**2\n",
    "    print(\"Квадрат введенного числа равен\", square)\n",
    "else:\n",
    "    cubed = number**3\n",
    "    print(\"Куб введенного числа равен\", cubed)"
   ]
  },
  {
   "cell_type": "code",
   "execution_count": 5,
   "id": "444db67e",
   "metadata": {},
   "outputs": [
    {
     "name": "stdout",
     "output_type": "stream",
     "text": [
      "У вас кошка - это прекрасно!\n"
     ]
    }
   ],
   "source": [
    "animal = \"кошка\"\n",
    "weight = 4.5\n",
    "\n",
    "\n",
    "if animal == \"кошка\":\n",
    "    print(\"У вас кошка - это прекрасно!\")\n",
    "elif animal == \"собака\":\n",
    "    print(\"У вас собака - замечательно!\")\n",
    "    if weight > 20:\n",
    "        print(\"Понятно, это большая собака\")\n",
    "else:\n",
    "    print(\"У вас не собака и не кошка. Ясно.\")"
   ]
  },
  {
   "cell_type": "code",
   "execution_count": 6,
   "id": "5dbd0adc",
   "metadata": {},
   "outputs": [
    {
     "name": "stdout",
     "output_type": "stream",
     "text": [
      "На каждого жильца приходится по 25.0 квадратных метров жилой площади\n"
     ]
    }
   ],
   "source": [
    "space = 100\n",
    "residents = 4\n",
    "\n",
    "print(\n",
    "    f\"На каждого жильца приходится по {space / residents} квадратных метров жилой площади\"\n",
    ")"
   ]
  },
  {
   "cell_type": "code",
   "execution_count": null,
   "id": "1f713321",
   "metadata": {},
   "outputs": [
    {
     "name": "stdout",
     "output_type": "stream",
     "text": [
      "На каждого жильца приходится по 25.0 квадратных метров жилой площади\n"
     ]
    }
   ],
   "source": [
    "space = 100\n",
    "residents = 4\n",
    "\n",
    "try:\n",
    "    print(\n",
    "        f\"На каждого жильца приходится по {space / residents} квадратных метров жилой площади\"\n",
    "    )\n",
    "except:\n",
    "    print(\"Не удалось посчитать значение\")"
   ]
  }
 ],
 "metadata": {
  "kernelspec": {
   "display_name": "data_science_pro_course",
   "language": "python",
   "name": "python3"
  },
  "language_info": {
   "codemirror_mode": {
    "name": "ipython",
    "version": 3
   },
   "file_extension": ".py",
   "mimetype": "text/x-python",
   "name": "python",
   "nbconvert_exporter": "python",
   "pygments_lexer": "ipython3",
   "version": "3.10.8"
  }
 },
 "nbformat": 4,
 "nbformat_minor": 5
}
